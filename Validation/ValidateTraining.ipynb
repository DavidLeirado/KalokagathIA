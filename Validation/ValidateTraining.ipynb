{
  "nbformat": 4,
  "nbformat_minor": 0,
  "metadata": {
    "colab": {
      "name": "ValidateTraining.ipynb",
      "provenance": [],
      "collapsed_sections": [
        "-uQFM5A0NGsf",
        "hfWnxiNfMNVx"
      ]
    },
    "kernelspec": {
      "name": "python3",
      "display_name": "Python 3"
    },
    "language_info": {
      "name": "python"
    }
  },
  "cells": [
    {
      "cell_type": "markdown",
      "metadata": {
        "id": "-uQFM5A0NGsf"
      },
      "source": [
        "# Unzip archivos"
      ]
    },
    {
      "cell_type": "code",
      "metadata": {
        "colab": {
          "base_uri": "https://localhost:8080/"
        },
        "id": "94G8e-BWRa5P",
        "outputId": "4501eefe-afe8-4fa1-f220-da145cc9f202"
      },
      "source": [
        "!unzip ./drive/MyDrive/KalokagathIA/results.zip"
      ],
      "execution_count": 4,
      "outputs": [
        {
          "output_type": "stream",
          "text": [
            "Archive:  ./drive/MyDrive/KalokagathIA/results.zip\n",
            "  inflating: logs/1621385657.7439206/events.out.tfevents.1621385657.eeb83ccd37f3.24.1  \n",
            "  inflating: logs/events.out.tfevents.1621385657.eeb83ccd37f3.24.0  \n",
            "  inflating: modelo_final/config.json  \n",
            "  inflating: modelo_final/pytorch_model.bin  \n",
            "  inflating: modelo_final/training_args.bin  \n"
          ],
          "name": "stdout"
        }
      ]
    },
    {
      "cell_type": "markdown",
      "metadata": {
        "id": "hfWnxiNfMNVx"
      },
      "source": [
        "# Carga del modelo"
      ]
    },
    {
      "cell_type": "code",
      "metadata": {
        "colab": {
          "base_uri": "https://localhost:8080/"
        },
        "id": "Nrvz87zfTk41",
        "outputId": "199d3d05-45a5-4439-c6e5-af4268f33ca2"
      },
      "source": [
        "!pip install transformers"
      ],
      "execution_count": 8,
      "outputs": [
        {
          "output_type": "stream",
          "text": [
            "Collecting transformers\n",
            "\u001b[?25l  Downloading https://files.pythonhosted.org/packages/d5/43/cfe4ee779bbd6a678ac6a97c5a5cdeb03c35f9eaebbb9720b036680f9a2d/transformers-4.6.1-py3-none-any.whl (2.2MB)\n",
            "\u001b[K     |████████████████████████████████| 2.3MB 29.6MB/s \n",
            "\u001b[?25hCollecting huggingface-hub==0.0.8\n",
            "  Downloading https://files.pythonhosted.org/packages/a1/88/7b1e45720ecf59c6c6737ff332f41c955963090a18e72acbcbeac6b25e86/huggingface_hub-0.0.8-py3-none-any.whl\n",
            "Requirement already satisfied: packaging in /usr/local/lib/python3.7/dist-packages (from transformers) (20.9)\n",
            "Requirement already satisfied: requests in /usr/local/lib/python3.7/dist-packages (from transformers) (2.23.0)\n",
            "Requirement already satisfied: importlib-metadata; python_version < \"3.8\" in /usr/local/lib/python3.7/dist-packages (from transformers) (4.0.1)\n",
            "Requirement already satisfied: tqdm>=4.27 in /usr/local/lib/python3.7/dist-packages (from transformers) (4.41.1)\n",
            "Requirement already satisfied: regex!=2019.12.17 in /usr/local/lib/python3.7/dist-packages (from transformers) (2019.12.20)\n",
            "Requirement already satisfied: filelock in /usr/local/lib/python3.7/dist-packages (from transformers) (3.0.12)\n",
            "Collecting tokenizers<0.11,>=0.10.1\n",
            "\u001b[?25l  Downloading https://files.pythonhosted.org/packages/ae/04/5b870f26a858552025a62f1649c20d29d2672c02ff3c3fb4c688ca46467a/tokenizers-0.10.2-cp37-cp37m-manylinux2010_x86_64.whl (3.3MB)\n",
            "\u001b[K     |████████████████████████████████| 3.3MB 43.3MB/s \n",
            "\u001b[?25hRequirement already satisfied: numpy>=1.17 in /usr/local/lib/python3.7/dist-packages (from transformers) (1.19.5)\n",
            "Collecting sacremoses\n",
            "\u001b[?25l  Downloading https://files.pythonhosted.org/packages/75/ee/67241dc87f266093c533a2d4d3d69438e57d7a90abb216fa076e7d475d4a/sacremoses-0.0.45-py3-none-any.whl (895kB)\n",
            "\u001b[K     |████████████████████████████████| 901kB 41.2MB/s \n",
            "\u001b[?25hRequirement already satisfied: pyparsing>=2.0.2 in /usr/local/lib/python3.7/dist-packages (from packaging->transformers) (2.4.7)\n",
            "Requirement already satisfied: urllib3!=1.25.0,!=1.25.1,<1.26,>=1.21.1 in /usr/local/lib/python3.7/dist-packages (from requests->transformers) (1.24.3)\n",
            "Requirement already satisfied: certifi>=2017.4.17 in /usr/local/lib/python3.7/dist-packages (from requests->transformers) (2020.12.5)\n",
            "Requirement already satisfied: chardet<4,>=3.0.2 in /usr/local/lib/python3.7/dist-packages (from requests->transformers) (3.0.4)\n",
            "Requirement already satisfied: idna<3,>=2.5 in /usr/local/lib/python3.7/dist-packages (from requests->transformers) (2.10)\n",
            "Requirement already satisfied: typing-extensions>=3.6.4; python_version < \"3.8\" in /usr/local/lib/python3.7/dist-packages (from importlib-metadata; python_version < \"3.8\"->transformers) (3.7.4.3)\n",
            "Requirement already satisfied: zipp>=0.5 in /usr/local/lib/python3.7/dist-packages (from importlib-metadata; python_version < \"3.8\"->transformers) (3.4.1)\n",
            "Requirement already satisfied: six in /usr/local/lib/python3.7/dist-packages (from sacremoses->transformers) (1.15.0)\n",
            "Requirement already satisfied: joblib in /usr/local/lib/python3.7/dist-packages (from sacremoses->transformers) (1.0.1)\n",
            "Requirement already satisfied: click in /usr/local/lib/python3.7/dist-packages (from sacremoses->transformers) (8.0.0)\n",
            "Installing collected packages: huggingface-hub, tokenizers, sacremoses, transformers\n",
            "Successfully installed huggingface-hub-0.0.8 sacremoses-0.0.45 tokenizers-0.10.2 transformers-4.6.1\n"
          ],
          "name": "stdout"
        }
      ]
    },
    {
      "cell_type": "code",
      "metadata": {
        "id": "2lenvC1bL2Pe"
      },
      "source": [
        "from transformers import BertForSequenceClassification, AutoTokenizer\n",
        "\n",
        "model_directory = './modelo_final/'\n",
        "\n",
        "model = BertForSequenceClassification.from_pretrained(model_directory)"
      ],
      "execution_count": 10,
      "outputs": []
    },
    {
      "cell_type": "code",
      "metadata": {
        "id": "tjCw95X3UXZ3"
      },
      "source": [
        "model.eval()"
      ],
      "execution_count": null,
      "outputs": []
    },
    {
      "cell_type": "markdown",
      "metadata": {
        "id": "lmFu2USVUxgI"
      },
      "source": [
        "# Carga del dataset"
      ]
    },
    {
      "cell_type": "code",
      "metadata": {
        "colab": {
          "base_uri": "https://localhost:8080/"
        },
        "id": "OSfGRYXCU08L",
        "outputId": "88e56a00-25f5-40ae-d4d3-87fa92f4268e"
      },
      "source": [
        "import pandas as pd\n",
        "\n",
        "# OJO que hay textos duplicados\n",
        "data_path = './drive/MyDrive/KalokagathIA/validacion.csv'\n",
        "\n",
        "columns = ['Autor', 'Obra', 'Fragmento', 'Texto']\n",
        "\n",
        "df = pd.DataFrame(columns=columns)\n",
        "\n",
        "with open(data_path, 'r') as file:\n",
        "  line = file.read().split('\\n')\n",
        "  for l in line:\n",
        "    try:\n",
        "      data = l.split(';')\n",
        "      autor = data[0]\n",
        "      obra = data[1]\n",
        "      fragmento = data[2]\n",
        "      texto = ';'.join(data[3:])\n",
        "      data_dict = {'Autor': autor, 'Obra': obra, 'Fragmento': fragmento, 'Texto': texto}\n",
        "      df = df.append(data_dict, ignore_index=True)\n",
        "    except:\n",
        "      print(l)\n",
        "\n",
        "print(df.head())\n",
        "print(df.describe())"
      ],
      "execution_count": 19,
      "outputs": [
        {
          "output_type": "stream",
          "text": [
            "\n",
            "       Autor  ...                                              Texto\n",
            "0  aristotle  ...  Γ.Ὅτι δ’ οὐκ ἔστιν αἴσθησις ἑτέρα παρὰ τὰς πέν...\n",
            "1  aristotle  ...  Γ.Ὅτι δ’ οὐκ ἔστιν αἴσθησις ἑτέρα παρὰ τὰς πέν...\n",
            "2  aristotle  ...  Ἐπεὶ δ’ αἰσθανόμεθα ὅτι ὁρῶμεν καὶ ἀκούομεν, ἀ...\n",
            "3  aristotle  ...  Ἐπεὶ δὲ δύο διαφοραῖς ὁρίζονται μάλιστα τὴν ψυ...\n",
            "4  aristotle  ...  Περὶ δὲ τοῦ μορίου τοῦ τῆς ψυχῆς ᾧ γινώσκει τε...\n",
            "\n",
            "[5 rows x 4 columns]\n",
            "            Autor   Obra Fragmento  Texto\n",
            "count        1531   1531      1531   1531\n",
            "unique          8     10      1408   1528\n",
            "top     Euripides  Menea         1  αἰαῖ.\n",
            "freq         1408   1408        10      2\n"
          ],
          "name": "stdout"
        }
      ]
    },
    {
      "cell_type": "markdown",
      "metadata": {
        "id": "Q3aUEFgKqlEk"
      },
      "source": [
        "## Limpieza dataset"
      ]
    },
    {
      "cell_type": "code",
      "metadata": {
        "id": "fnevvCDmqnZt"
      },
      "source": [
        "import unicodedata\n",
        "\n",
        "def strip_accents_and_lowercase(s):\n",
        "    return ''.join(c for c in unicodedata.normalize('NFD', s) if unicodedata.category(c) != 'Mn').lower()"
      ],
      "execution_count": 32,
      "outputs": []
    },
    {
      "cell_type": "code",
      "metadata": {
        "id": "uVE6wvaiqxtB"
      },
      "source": [
        "df.Texto = df.Texto.apply(lambda x: strip_accents_and_lowercase(x))"
      ],
      "execution_count": 33,
      "outputs": []
    },
    {
      "cell_type": "code",
      "metadata": {
        "colab": {
          "base_uri": "https://localhost:8080/",
          "height": 419
        },
        "id": "Czd4Hiw0r6NN",
        "outputId": "83e08eda-4300-463a-ce7c-436899ec5e49"
      },
      "source": [
        "df"
      ],
      "execution_count": 41,
      "outputs": [
        {
          "output_type": "execute_result",
          "data": {
            "text/html": [
              "<div>\n",
              "<style scoped>\n",
              "    .dataframe tbody tr th:only-of-type {\n",
              "        vertical-align: middle;\n",
              "    }\n",
              "\n",
              "    .dataframe tbody tr th {\n",
              "        vertical-align: top;\n",
              "    }\n",
              "\n",
              "    .dataframe thead th {\n",
              "        text-align: right;\n",
              "    }\n",
              "</style>\n",
              "<table border=\"1\" class=\"dataframe\">\n",
              "  <thead>\n",
              "    <tr style=\"text-align: right;\">\n",
              "      <th></th>\n",
              "      <th>Autor</th>\n",
              "      <th>Obra</th>\n",
              "      <th>Fragmento</th>\n",
              "      <th>Texto</th>\n",
              "    </tr>\n",
              "  </thead>\n",
              "  <tbody>\n",
              "    <tr>\n",
              "      <th>0</th>\n",
              "      <td>aristotle</td>\n",
              "      <td>deanimab3</td>\n",
              "      <td>3</td>\n",
              "      <td>γ.οτι δ’ ουκ εστιν αισθησις ετερα παρα τας πεν...</td>\n",
              "    </tr>\n",
              "    <tr>\n",
              "      <th>1</th>\n",
              "      <td>aristotle</td>\n",
              "      <td>deanimab3</td>\n",
              "      <td>1</td>\n",
              "      <td>γ.οτι δ’ ουκ εστιν αισθησις ετερα παρα τας πεν...</td>\n",
              "    </tr>\n",
              "    <tr>\n",
              "      <th>2</th>\n",
              "      <td>aristotle</td>\n",
              "      <td>deanimab3</td>\n",
              "      <td>2</td>\n",
              "      <td>επει δ’ αισθανομεθα οτι ορωμεν και ακουομεν, α...</td>\n",
              "    </tr>\n",
              "    <tr>\n",
              "      <th>3</th>\n",
              "      <td>aristotle</td>\n",
              "      <td>deanimab3</td>\n",
              "      <td>3</td>\n",
              "      <td>επει δε δυο διαφοραις οριζονται μαλιστα την ψυ...</td>\n",
              "    </tr>\n",
              "    <tr>\n",
              "      <th>4</th>\n",
              "      <td>aristotle</td>\n",
              "      <td>deanimab3</td>\n",
              "      <td>4</td>\n",
              "      <td>περι δε του μοριου του της ψυχης ω γινωσκει τε...</td>\n",
              "    </tr>\n",
              "    <tr>\n",
              "      <th>...</th>\n",
              "      <td>...</td>\n",
              "      <td>...</td>\n",
              "      <td>...</td>\n",
              "      <td>...</td>\n",
              "    </tr>\n",
              "    <tr>\n",
              "      <th>1526</th>\n",
              "      <td>Demosthenes</td>\n",
              "      <td>Against Dionysodorus</td>\n",
              "      <td>46</td>\n",
              "      <td>ταυτʼ εχοντες τα δικαια εισεληλυθαμεν προς υμα...</td>\n",
              "    </tr>\n",
              "    <tr>\n",
              "      <th>1527</th>\n",
              "      <td>Demosthenes</td>\n",
              "      <td>Against Dionysodorus</td>\n",
              "      <td>47</td>\n",
              "      <td>εν τω ροδιων δικαστηριω εκρινομεθα, ισως αν ου...</td>\n",
              "    </tr>\n",
              "    <tr>\n",
              "      <th>1528</th>\n",
              "      <td>Demosthenes</td>\n",
              "      <td>Against Dionysodorus</td>\n",
              "      <td>48</td>\n",
              "      <td>χωρις δε τουτων, ανδρες αθηναιοι, μη αγνοειτε,...</td>\n",
              "    </tr>\n",
              "    <tr>\n",
              "      <th>1529</th>\n",
              "      <td>Demosthenes</td>\n",
              "      <td>Against Dionysodorus</td>\n",
              "      <td>49</td>\n",
              "      <td>ει μεντοι εξεσται τοις ναυκληροις, συγγραφην γ...</td>\n",
              "    </tr>\n",
              "    <tr>\n",
              "      <th>1530</th>\n",
              "      <td>Demosthenes</td>\n",
              "      <td>Against Dionysodorus</td>\n",
              "      <td>50</td>\n",
              "      <td>τις γαρ εθελησει τα εαυτου προεσθαι, οταν ορα ...</td>\n",
              "    </tr>\n",
              "  </tbody>\n",
              "</table>\n",
              "<p>1531 rows × 4 columns</p>\n",
              "</div>"
            ],
            "text/plain": [
              "            Autor  ...                                              Texto\n",
              "0       aristotle  ...  γ.οτι δ’ ουκ εστιν αισθησις ετερα παρα τας πεν...\n",
              "1       aristotle  ...  γ.οτι δ’ ουκ εστιν αισθησις ετερα παρα τας πεν...\n",
              "2       aristotle  ...  επει δ’ αισθανομεθα οτι ορωμεν και ακουομεν, α...\n",
              "3       aristotle  ...  επει δε δυο διαφοραις οριζονται μαλιστα την ψυ...\n",
              "4       aristotle  ...  περι δε του μοριου του της ψυχης ω γινωσκει τε...\n",
              "...           ...  ...                                                ...\n",
              "1526  Demosthenes  ...  ταυτʼ εχοντες τα δικαια εισεληλυθαμεν προς υμα...\n",
              "1527  Demosthenes  ...  εν τω ροδιων δικαστηριω εκρινομεθα, ισως αν ου...\n",
              "1528  Demosthenes  ...  χωρις δε τουτων, ανδρες αθηναιοι, μη αγνοειτε,...\n",
              "1529  Demosthenes  ...  ει μεντοι εξεσται τοις ναυκληροις, συγγραφην γ...\n",
              "1530  Demosthenes  ...  τις γαρ εθελησει τα εαυτου προεσθαι, οταν ορα ...\n",
              "\n",
              "[1531 rows x 4 columns]"
            ]
          },
          "metadata": {
            "tags": []
          },
          "execution_count": 41
        }
      ]
    },
    {
      "cell_type": "markdown",
      "metadata": {
        "id": "kkgsJxBZa1Dq"
      },
      "source": [
        "# Interpreter"
      ]
    },
    {
      "cell_type": "code",
      "metadata": {
        "id": "0rl-9fqgadTg"
      },
      "source": [
        "!pip install transformers-interpret"
      ],
      "execution_count": null,
      "outputs": []
    },
    {
      "cell_type": "code",
      "metadata": {
        "id": "E-83xGp2aIe8"
      },
      "source": [
        "# https://github.com/cdpierse/transformers-interpret\n",
        "from transformers import AutoTokenizer\n",
        "from transformers_interpret import SequenceClassificationExplainer\n",
        "\n",
        "tokenizer = AutoTokenizer.from_pretrained('nlpaueb/bert-base-greek-uncased-v1')\n",
        "interpreter = SequenceClassificationExplainer(model, tokenizer)"
      ],
      "execution_count": 42,
      "outputs": []
    },
    {
      "cell_type": "code",
      "metadata": {
        "colab": {
          "base_uri": "https://localhost:8080/",
          "height": 196
        },
        "id": "EwMRQ19Bbumc",
        "outputId": "5758b2a9-75e9-42a3-8a41-14d0d4bfb08a"
      },
      "source": [
        "# ;ψευδόμενοι· σὲ δʼ ἔτικτε πατὴρ ἀνδρῶν τε θεῶν τε\n",
        "print(df.loc[40].Texto)\n",
        "interpretacion = interpreter(df.loc[40].Texto)\n",
        "interpreter.visualize()"
      ],
      "execution_count": 44,
      "outputs": [
        {
          "output_type": "stream",
          "text": [
            "ψευδομενοι· σε δʼ ετικτε πατηρ ανδρων τε θεων τε\n"
          ],
          "name": "stdout"
        },
        {
          "output_type": "display_data",
          "data": {
            "text/html": [
              "<table width: 100%><div style=\"border-top: 1px solid; margin-top: 5px;             padding-top: 5px; display: inline-block\"><b>Legend: </b><span style=\"display: inline-block; width: 10px; height: 10px;                 border: 1px solid; background-color:                 hsl(0, 75%, 60%)\"></span> Negative  <span style=\"display: inline-block; width: 10px; height: 10px;                 border: 1px solid; background-color:                 hsl(0, 75%, 100%)\"></span> Neutral  <span style=\"display: inline-block; width: 10px; height: 10px;                 border: 1px solid; background-color:                 hsl(120, 75%, 50%)\"></span> Positive  </div><tr><th>True Label</th><th>Predicted Label</th><th>Attribution Label</th><th>Attribution Score</th><th>Word Importance</th><tr><td><text style=\"padding-right:2em\"><b>2</b></text></td><td><text style=\"padding-right:2em\"><b>LABEL_2 (0.04)</b></text></td><td><text style=\"padding-right:2em\"><b>LABEL_2</b></text></td><td><text style=\"padding-right:2em\"><b>0.00</b></text></td><td><mark style=\"background-color: hsl(0, 75%, 100%); opacity:1.0;                     line-height:1.75\"><font color=\"black\"> [CLS]                    </font></mark><mark style=\"background-color: hsl(120, 75%, 98%); opacity:1.0;                     line-height:1.75\"><font color=\"black\"> ψευδο                    </font></mark><mark style=\"background-color: hsl(0, 75%, 96%); opacity:1.0;                     line-height:1.75\"><font color=\"black\"> ##μενοι                    </font></mark><mark style=\"background-color: hsl(0, 75%, 89%); opacity:1.0;                     line-height:1.75\"><font color=\"black\"> ·                    </font></mark><mark style=\"background-color: hsl(120, 75%, 89%); opacity:1.0;                     line-height:1.75\"><font color=\"black\"> σε                    </font></mark><mark style=\"background-color: hsl(0, 75%, 99%); opacity:1.0;                     line-height:1.75\"><font color=\"black\"> [UNK]                    </font></mark><mark style=\"background-color: hsl(0, 75%, 97%); opacity:1.0;                     line-height:1.75\"><font color=\"black\"> ετι                    </font></mark><mark style=\"background-color: hsl(0, 75%, 95%); opacity:1.0;                     line-height:1.75\"><font color=\"black\"> ##κτ                    </font></mark><mark style=\"background-color: hsl(0, 75%, 97%); opacity:1.0;                     line-height:1.75\"><font color=\"black\"> ##ε                    </font></mark><mark style=\"background-color: hsl(120, 75%, 65%); opacity:1.0;                     line-height:1.75\"><font color=\"black\"> πατηρ                    </font></mark><mark style=\"background-color: hsl(120, 75%, 100%); opacity:1.0;                     line-height:1.75\"><font color=\"black\"> ανδρων                    </font></mark><mark style=\"background-color: hsl(0, 75%, 95%); opacity:1.0;                     line-height:1.75\"><font color=\"black\"> τε                    </font></mark><mark style=\"background-color: hsl(120, 75%, 84%); opacity:1.0;                     line-height:1.75\"><font color=\"black\"> θεων                    </font></mark><mark style=\"background-color: hsl(0, 75%, 83%); opacity:1.0;                     line-height:1.75\"><font color=\"black\"> τε                    </font></mark><mark style=\"background-color: hsl(0, 75%, 100%); opacity:1.0;                     line-height:1.75\"><font color=\"black\"> [SEP]                    </font></mark></td><tr></table>"
            ],
            "text/plain": [
              "<IPython.core.display.HTML object>"
            ]
          },
          "metadata": {
            "tags": []
          }
        },
        {
          "output_type": "execute_result",
          "data": {
            "text/html": [
              "<table width: 100%><div style=\"border-top: 1px solid; margin-top: 5px;             padding-top: 5px; display: inline-block\"><b>Legend: </b><span style=\"display: inline-block; width: 10px; height: 10px;                 border: 1px solid; background-color:                 hsl(0, 75%, 60%)\"></span> Negative  <span style=\"display: inline-block; width: 10px; height: 10px;                 border: 1px solid; background-color:                 hsl(0, 75%, 100%)\"></span> Neutral  <span style=\"display: inline-block; width: 10px; height: 10px;                 border: 1px solid; background-color:                 hsl(120, 75%, 50%)\"></span> Positive  </div><tr><th>True Label</th><th>Predicted Label</th><th>Attribution Label</th><th>Attribution Score</th><th>Word Importance</th><tr><td><text style=\"padding-right:2em\"><b>2</b></text></td><td><text style=\"padding-right:2em\"><b>LABEL_2 (0.04)</b></text></td><td><text style=\"padding-right:2em\"><b>LABEL_2</b></text></td><td><text style=\"padding-right:2em\"><b>0.00</b></text></td><td><mark style=\"background-color: hsl(0, 75%, 100%); opacity:1.0;                     line-height:1.75\"><font color=\"black\"> [CLS]                    </font></mark><mark style=\"background-color: hsl(120, 75%, 98%); opacity:1.0;                     line-height:1.75\"><font color=\"black\"> ψευδο                    </font></mark><mark style=\"background-color: hsl(0, 75%, 96%); opacity:1.0;                     line-height:1.75\"><font color=\"black\"> ##μενοι                    </font></mark><mark style=\"background-color: hsl(0, 75%, 89%); opacity:1.0;                     line-height:1.75\"><font color=\"black\"> ·                    </font></mark><mark style=\"background-color: hsl(120, 75%, 89%); opacity:1.0;                     line-height:1.75\"><font color=\"black\"> σε                    </font></mark><mark style=\"background-color: hsl(0, 75%, 99%); opacity:1.0;                     line-height:1.75\"><font color=\"black\"> [UNK]                    </font></mark><mark style=\"background-color: hsl(0, 75%, 97%); opacity:1.0;                     line-height:1.75\"><font color=\"black\"> ετι                    </font></mark><mark style=\"background-color: hsl(0, 75%, 95%); opacity:1.0;                     line-height:1.75\"><font color=\"black\"> ##κτ                    </font></mark><mark style=\"background-color: hsl(0, 75%, 97%); opacity:1.0;                     line-height:1.75\"><font color=\"black\"> ##ε                    </font></mark><mark style=\"background-color: hsl(120, 75%, 65%); opacity:1.0;                     line-height:1.75\"><font color=\"black\"> πατηρ                    </font></mark><mark style=\"background-color: hsl(120, 75%, 100%); opacity:1.0;                     line-height:1.75\"><font color=\"black\"> ανδρων                    </font></mark><mark style=\"background-color: hsl(0, 75%, 95%); opacity:1.0;                     line-height:1.75\"><font color=\"black\"> τε                    </font></mark><mark style=\"background-color: hsl(120, 75%, 84%); opacity:1.0;                     line-height:1.75\"><font color=\"black\"> θεων                    </font></mark><mark style=\"background-color: hsl(0, 75%, 83%); opacity:1.0;                     line-height:1.75\"><font color=\"black\"> τε                    </font></mark><mark style=\"background-color: hsl(0, 75%, 100%); opacity:1.0;                     line-height:1.75\"><font color=\"black\"> [SEP]                    </font></mark></td><tr></table>"
            ],
            "text/plain": [
              "<IPython.core.display.HTML object>"
            ]
          },
          "metadata": {
            "tags": []
          },
          "execution_count": 44
        }
      ]
    },
    {
      "cell_type": "code",
      "metadata": {
        "colab": {
          "base_uri": "https://localhost:8080/",
          "height": 98
        },
        "id": "q9-_3L9WvI09",
        "outputId": "47a8e68e-e5c8-4b7c-8335-277242054544"
      },
      "source": [
        "interpretacion = interpreter('δʼ')\n",
        "interpreter.visualize()\n",
        "result_ids = tokenizer.tokenize('ψευδομενοι· σε δʼ ετικτε πατηρ ανδρων τε θεων τε')"
      ],
      "execution_count": 48,
      "outputs": [
        {
          "output_type": "display_data",
          "data": {
            "text/html": [
              "<table width: 100%><div style=\"border-top: 1px solid; margin-top: 5px;             padding-top: 5px; display: inline-block\"><b>Legend: </b><span style=\"display: inline-block; width: 10px; height: 10px;                 border: 1px solid; background-color:                 hsl(0, 75%, 60%)\"></span> Negative  <span style=\"display: inline-block; width: 10px; height: 10px;                 border: 1px solid; background-color:                 hsl(0, 75%, 100%)\"></span> Neutral  <span style=\"display: inline-block; width: 10px; height: 10px;                 border: 1px solid; background-color:                 hsl(120, 75%, 50%)\"></span> Positive  </div><tr><th>True Label</th><th>Predicted Label</th><th>Attribution Label</th><th>Attribution Score</th><th>Word Importance</th><tr><td><text style=\"padding-right:2em\"><b>26</b></text></td><td><text style=\"padding-right:2em\"><b>LABEL_26 (0.04)</b></text></td><td><text style=\"padding-right:2em\"><b>LABEL_26</b></text></td><td><text style=\"padding-right:2em\"><b>1.00</b></text></td><td><mark style=\"background-color: hsl(0, 75%, 100%); opacity:1.0;                     line-height:1.75\"><font color=\"black\"> [CLS]                    </font></mark><mark style=\"background-color: hsl(120, 75%, 50%); opacity:1.0;                     line-height:1.75\"><font color=\"black\"> [UNK]                    </font></mark><mark style=\"background-color: hsl(0, 75%, 100%); opacity:1.0;                     line-height:1.75\"><font color=\"black\"> [SEP]                    </font></mark></td><tr></table>"
            ],
            "text/plain": [
              "<IPython.core.display.HTML object>"
            ]
          },
          "metadata": {
            "tags": []
          }
        }
      ]
    },
    {
      "cell_type": "code",
      "metadata": {
        "colab": {
          "base_uri": "https://localhost:8080/"
        },
        "id": "uHe6UhJRxN5p",
        "outputId": "69b07a9b-080f-4d88-c473-7cc2701762e9"
      },
      "source": [
        "result_ids"
      ],
      "execution_count": 49,
      "outputs": [
        {
          "output_type": "execute_result",
          "data": {
            "text/plain": [
              "['ψευδο',\n",
              " '##μενοι',\n",
              " '·',\n",
              " 'σε',\n",
              " '[UNK]',\n",
              " 'ετι',\n",
              " '##κτ',\n",
              " '##ε',\n",
              " 'πατηρ',\n",
              " 'ανδρων',\n",
              " 'τε',\n",
              " 'θεων',\n",
              " 'τε']"
            ]
          },
          "metadata": {
            "tags": []
          },
          "execution_count": 49
        }
      ]
    },
    {
      "cell_type": "code",
      "metadata": {
        "id": "pf4kDYng1VLF"
      },
      "source": [
        "encoding = tokenizer(df.loc[0].Texto, max_length=512)"
      ],
      "execution_count": null,
      "outputs": []
    }
  ]
}