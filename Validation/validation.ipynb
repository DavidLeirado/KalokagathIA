{
 "cells": [
  {
   "cell_type": "markdown",
   "metadata": {
    "id": "-uQFM5A0NGsf"
   },
   "source": [
    "# Unzip archivos"
   ]
  },
  {
   "cell_type": "markdown",
   "metadata": {
    "id": "hfWnxiNfMNVx"
   },
   "source": [
    "# Carga del modelo"
   ]
  },
  {
   "cell_type": "code",
   "execution_count": 1,
   "metadata": {
    "execution": {
     "iopub.execute_input": "2021-05-28T19:21:15.044887Z",
     "iopub.status.busy": "2021-05-28T19:21:15.044535Z",
     "iopub.status.idle": "2021-05-28T19:21:30.721667Z",
     "shell.execute_reply": "2021-05-28T19:21:30.720834Z",
     "shell.execute_reply.started": "2021-05-28T19:21:15.044858Z"
    },
    "id": "2lenvC1bL2Pe"
   },
   "outputs": [
    {
     "ename": "ImportError",
     "evalue": "\nBertForSequenceClassification requires the PyTorch library but it was not found in your environment. Checkout the instructions on the\ninstallation page: https://pytorch.org/get-started/locally/ and follow the ones that match your environment.\n",
     "output_type": "error",
     "traceback": [
      "\u001b[0;31m---------------------------------------------------------------------------\u001b[0m",
      "\u001b[0;31mImportError\u001b[0m                               Traceback (most recent call last)",
      "\u001b[0;32m<ipython-input-1-e6b290e5e6df>\u001b[0m in \u001b[0;36m<module>\u001b[0;34m\u001b[0m\n\u001b[1;32m      3\u001b[0m \u001b[0mmodel_directory\u001b[0m \u001b[0;34m=\u001b[0m \u001b[0;34m'../data/modelo'\u001b[0m\u001b[0;34m\u001b[0m\u001b[0;34m\u001b[0m\u001b[0m\n\u001b[1;32m      4\u001b[0m \u001b[0;34m\u001b[0m\u001b[0m\n\u001b[0;32m----> 5\u001b[0;31m \u001b[0mmodel\u001b[0m \u001b[0;34m=\u001b[0m \u001b[0mBertForSequenceClassification\u001b[0m\u001b[0;34m.\u001b[0m\u001b[0mfrom_pretrained\u001b[0m\u001b[0;34m(\u001b[0m\u001b[0mmodel_directory\u001b[0m\u001b[0;34m)\u001b[0m\u001b[0;34m\u001b[0m\u001b[0;34m\u001b[0m\u001b[0m\n\u001b[0m\u001b[1;32m      6\u001b[0m \u001b[0mtokenizer\u001b[0m \u001b[0;34m=\u001b[0m \u001b[0mAutoTokenizer\u001b[0m\u001b[0;34m.\u001b[0m\u001b[0mfrom_pretrained\u001b[0m\u001b[0;34m(\u001b[0m\u001b[0;34m'nlpaueb/bert-base-greek-uncased-v1'\u001b[0m\u001b[0;34m)\u001b[0m\u001b[0;34m\u001b[0m\u001b[0;34m\u001b[0m\u001b[0m\n",
      "\u001b[0;32m~/anaconda2/envs/saturdays/lib/python3.8/site-packages/transformers/utils/dummy_pt_objects.py\u001b[0m in \u001b[0;36mfrom_pretrained\u001b[0;34m(self, *args, **kwargs)\u001b[0m\n\u001b[1;32m    584\u001b[0m     \u001b[0;34m@\u001b[0m\u001b[0mclassmethod\u001b[0m\u001b[0;34m\u001b[0m\u001b[0;34m\u001b[0m\u001b[0m\n\u001b[1;32m    585\u001b[0m     \u001b[0;32mdef\u001b[0m \u001b[0mfrom_pretrained\u001b[0m\u001b[0;34m(\u001b[0m\u001b[0mself\u001b[0m\u001b[0;34m,\u001b[0m \u001b[0;34m*\u001b[0m\u001b[0margs\u001b[0m\u001b[0;34m,\u001b[0m \u001b[0;34m**\u001b[0m\u001b[0mkwargs\u001b[0m\u001b[0;34m)\u001b[0m\u001b[0;34m:\u001b[0m\u001b[0;34m\u001b[0m\u001b[0;34m\u001b[0m\u001b[0m\n\u001b[0;32m--> 586\u001b[0;31m         \u001b[0mrequires_backends\u001b[0m\u001b[0;34m(\u001b[0m\u001b[0mself\u001b[0m\u001b[0;34m,\u001b[0m \u001b[0;34m[\u001b[0m\u001b[0;34m\"torch\"\u001b[0m\u001b[0;34m]\u001b[0m\u001b[0;34m)\u001b[0m\u001b[0;34m\u001b[0m\u001b[0;34m\u001b[0m\u001b[0m\n\u001b[0m\u001b[1;32m    587\u001b[0m \u001b[0;34m\u001b[0m\u001b[0m\n\u001b[1;32m    588\u001b[0m \u001b[0;34m\u001b[0m\u001b[0m\n",
      "\u001b[0;32m~/anaconda2/envs/saturdays/lib/python3.8/site-packages/transformers/file_utils.py\u001b[0m in \u001b[0;36mrequires_backends\u001b[0;34m(obj, backends)\u001b[0m\n\u001b[1;32m    567\u001b[0m     \u001b[0mname\u001b[0m \u001b[0;34m=\u001b[0m \u001b[0mobj\u001b[0m\u001b[0;34m.\u001b[0m\u001b[0m__name__\u001b[0m \u001b[0;32mif\u001b[0m \u001b[0mhasattr\u001b[0m\u001b[0;34m(\u001b[0m\u001b[0mobj\u001b[0m\u001b[0;34m,\u001b[0m \u001b[0;34m\"__name__\"\u001b[0m\u001b[0;34m)\u001b[0m \u001b[0;32melse\u001b[0m \u001b[0mobj\u001b[0m\u001b[0;34m.\u001b[0m\u001b[0m__class__\u001b[0m\u001b[0;34m.\u001b[0m\u001b[0m__name__\u001b[0m\u001b[0;34m\u001b[0m\u001b[0;34m\u001b[0m\u001b[0m\n\u001b[1;32m    568\u001b[0m     \u001b[0;32mif\u001b[0m \u001b[0;32mnot\u001b[0m \u001b[0mall\u001b[0m\u001b[0;34m(\u001b[0m\u001b[0mBACKENDS_MAPPING\u001b[0m\u001b[0;34m[\u001b[0m\u001b[0mbackend\u001b[0m\u001b[0;34m]\u001b[0m\u001b[0;34m[\u001b[0m\u001b[0;36m0\u001b[0m\u001b[0;34m]\u001b[0m\u001b[0;34m(\u001b[0m\u001b[0;34m)\u001b[0m \u001b[0;32mfor\u001b[0m \u001b[0mbackend\u001b[0m \u001b[0;32min\u001b[0m \u001b[0mbackends\u001b[0m\u001b[0;34m)\u001b[0m\u001b[0;34m:\u001b[0m\u001b[0;34m\u001b[0m\u001b[0;34m\u001b[0m\u001b[0m\n\u001b[0;32m--> 569\u001b[0;31m         \u001b[0;32mraise\u001b[0m \u001b[0mImportError\u001b[0m\u001b[0;34m(\u001b[0m\u001b[0;34m\"\"\u001b[0m\u001b[0;34m.\u001b[0m\u001b[0mjoin\u001b[0m\u001b[0;34m(\u001b[0m\u001b[0;34m[\u001b[0m\u001b[0mBACKENDS_MAPPING\u001b[0m\u001b[0;34m[\u001b[0m\u001b[0mbackend\u001b[0m\u001b[0;34m]\u001b[0m\u001b[0;34m[\u001b[0m\u001b[0;36m1\u001b[0m\u001b[0;34m]\u001b[0m\u001b[0;34m.\u001b[0m\u001b[0mformat\u001b[0m\u001b[0;34m(\u001b[0m\u001b[0mname\u001b[0m\u001b[0;34m)\u001b[0m \u001b[0;32mfor\u001b[0m \u001b[0mbackend\u001b[0m \u001b[0;32min\u001b[0m \u001b[0mbackends\u001b[0m\u001b[0;34m]\u001b[0m\u001b[0;34m)\u001b[0m\u001b[0;34m)\u001b[0m\u001b[0;34m\u001b[0m\u001b[0;34m\u001b[0m\u001b[0m\n\u001b[0m\u001b[1;32m    570\u001b[0m \u001b[0;34m\u001b[0m\u001b[0m\n\u001b[1;32m    571\u001b[0m \u001b[0;34m\u001b[0m\u001b[0m\n",
      "\u001b[0;31mImportError\u001b[0m: \nBertForSequenceClassification requires the PyTorch library but it was not found in your environment. Checkout the instructions on the\ninstallation page: https://pytorch.org/get-started/locally/ and follow the ones that match your environment.\n"
     ]
    }
   ],
   "source": [
    "from transformers import BertForSequenceClassification, AutoTokenizer\n",
    "\n",
    "model_directory = '../data/modelo'\n",
    "\n",
    "model = BertForSequenceClassification.from_pretrained(model_directory)\n",
    "tokenizer = AutoTokenizer.from_pretrained('nlpaueb/bert-base-greek-uncased-v1')"
   ]
  },
  {
   "cell_type": "markdown",
   "metadata": {
    "id": "lmFu2USVUxgI"
   },
   "source": [
    "# Carga del dataset"
   ]
  },
  {
   "cell_type": "code",
   "execution_count": 4,
   "metadata": {
    "execution": {
     "iopub.execute_input": "2021-05-28T19:21:30.723538Z",
     "iopub.status.busy": "2021-05-28T19:21:30.723165Z",
     "iopub.status.idle": "2021-05-28T19:21:30.860541Z",
     "shell.execute_reply": "2021-05-28T19:21:30.859743Z",
     "shell.execute_reply.started": "2021-05-28T19:21:30.723500Z"
    },
    "id": "OSfGRYXCU08L",
    "outputId": "88e56a00-25f5-40ae-d4d3-87fa92f4268e"
   },
   "outputs": [
    {
     "name": "stdout",
     "output_type": "stream",
     "text": [
      "                  Autor                                          Obra  \\\n",
      "0  Eusebius of Caesarea  De Martyribus Palaestinae (Recensio Brevior)   \n",
      "1  Eusebius of Caesarea  De Martyribus Palaestinae (Recensio Brevior)   \n",
      "2  Eusebius of Caesarea  De Martyribus Palaestinae (Recensio Brevior)   \n",
      "3  Eusebius of Caesarea  De Martyribus Palaestinae (Recensio Brevior)   \n",
      "4  Eusebius of Caesarea  De Martyribus Palaestinae (Recensio Brevior)   \n",
      "\n",
      "  Fragmento                                              Texto  \n",
      "0         1  πρωτος τοιγαρουν των επι παλαιστινης μαρτυρων ...  \n",
      "1         1  πρωτος τοιγαρουν των επι παλαιστινης μαρτυρων ...  \n",
      "2         2  δεσιου μηνος εβδομη, προ επτα ειδων ιουνιων λε...  \n",
      "3         3  μετα δε τουτο επι της αυτης πολεως πλειστοι οσ...  \n",
      "4         4  ομως δε ουν εφερον το αποβαν ακολουθως ταις απ...  \n",
      "            Autor     Obra Fragmento  \\\n",
      "count        4292     4292      4292   \n",
      "unique         13       34      1514   \n",
      "top     Euripides  Bacchae         1   \n",
      "freq         1204     1204        97   \n",
      "\n",
      "                                                    Texto  \n",
      "count                                                4292  \n",
      "unique                                               4168  \n",
      "top     γαρ το αυτο εστι ριψαι και αποβεβληκεναι: αλλ᾽...  \n",
      "freq                                                   33  \n"
     ]
    }
   ],
   "source": [
    "import pandas as pd\n",
    "\n",
    "# OJO que hay textos duplicados\n",
    "data_path = '../input/greek-val/val_df.csv'\n",
    "\n",
    "df = pd.read_csv(data_path, delimiter='>')\n",
    "\n",
    "print(df.head())\n",
    "print(df.describe())"
   ]
  },
  {
   "cell_type": "code",
   "execution_count": 5,
   "metadata": {
    "execution": {
     "iopub.execute_input": "2021-05-28T19:21:30.863675Z",
     "iopub.status.busy": "2021-05-28T19:21:30.863412Z",
     "iopub.status.idle": "2021-05-28T19:21:30.898274Z",
     "shell.execute_reply": "2021-05-28T19:21:30.897527Z",
     "shell.execute_reply.started": "2021-05-28T19:21:30.863650Z"
    }
   },
   "outputs": [
    {
     "data": {
      "text/html": [
       "<div>\n",
       "<style scoped>\n",
       "    .dataframe tbody tr th:only-of-type {\n",
       "        vertical-align: middle;\n",
       "    }\n",
       "\n",
       "    .dataframe tbody tr th {\n",
       "        vertical-align: top;\n",
       "    }\n",
       "\n",
       "    .dataframe thead th {\n",
       "        text-align: right;\n",
       "    }\n",
       "</style>\n",
       "<table border=\"1\" class=\"dataframe\">\n",
       "  <thead>\n",
       "    <tr style=\"text-align: right;\">\n",
       "      <th></th>\n",
       "      <th>Autor</th>\n",
       "      <th>Obra</th>\n",
       "      <th>Fragmento</th>\n",
       "      <th>Texto</th>\n",
       "    </tr>\n",
       "  </thead>\n",
       "  <tbody>\n",
       "    <tr>\n",
       "      <th>0</th>\n",
       "      <td>Eusebius of Caesarea</td>\n",
       "      <td>De Martyribus Palaestinae (Recensio Brevior)</td>\n",
       "      <td>1</td>\n",
       "      <td>πρωτος τοιγαρουν των επι παλαιστινης μαρτυρων ...</td>\n",
       "    </tr>\n",
       "    <tr>\n",
       "      <th>1</th>\n",
       "      <td>Eusebius of Caesarea</td>\n",
       "      <td>De Martyribus Palaestinae (Recensio Brevior)</td>\n",
       "      <td>1</td>\n",
       "      <td>πρωτος τοιγαρουν των επι παλαιστινης μαρτυρων ...</td>\n",
       "    </tr>\n",
       "    <tr>\n",
       "      <th>2</th>\n",
       "      <td>Eusebius of Caesarea</td>\n",
       "      <td>De Martyribus Palaestinae (Recensio Brevior)</td>\n",
       "      <td>2</td>\n",
       "      <td>δεσιου μηνος εβδομη, προ επτα ειδων ιουνιων λε...</td>\n",
       "    </tr>\n",
       "    <tr>\n",
       "      <th>3</th>\n",
       "      <td>Eusebius of Caesarea</td>\n",
       "      <td>De Martyribus Palaestinae (Recensio Brevior)</td>\n",
       "      <td>3</td>\n",
       "      <td>μετα δε τουτο επι της αυτης πολεως πλειστοι οσ...</td>\n",
       "    </tr>\n",
       "    <tr>\n",
       "      <th>4</th>\n",
       "      <td>Eusebius of Caesarea</td>\n",
       "      <td>De Martyribus Palaestinae (Recensio Brevior)</td>\n",
       "      <td>4</td>\n",
       "      <td>ομως δε ουν εφερον το αποβαν ακολουθως ταις απ...</td>\n",
       "    </tr>\n",
       "  </tbody>\n",
       "</table>\n",
       "</div>"
      ],
      "text/plain": [
       "                  Autor                                          Obra  \\\n",
       "0  Eusebius of Caesarea  De Martyribus Palaestinae (Recensio Brevior)   \n",
       "1  Eusebius of Caesarea  De Martyribus Palaestinae (Recensio Brevior)   \n",
       "2  Eusebius of Caesarea  De Martyribus Palaestinae (Recensio Brevior)   \n",
       "3  Eusebius of Caesarea  De Martyribus Palaestinae (Recensio Brevior)   \n",
       "4  Eusebius of Caesarea  De Martyribus Palaestinae (Recensio Brevior)   \n",
       "\n",
       "  Fragmento                                              Texto  \n",
       "0         1  πρωτος τοιγαρουν των επι παλαιστινης μαρτυρων ...  \n",
       "1         1  πρωτος τοιγαρουν των επι παλαιστινης μαρτυρων ...  \n",
       "2         2  δεσιου μηνος εβδομη, προ επτα ειδων ιουνιων λε...  \n",
       "3         3  μετα δε τουτο επι της αυτης πολεως πλειστοι οσ...  \n",
       "4         4  ομως δε ουν εφερον το αποβαν ακολουθως ταις απ...  "
      ]
     },
     "execution_count": 5,
     "metadata": {},
     "output_type": "execute_result"
    }
   ],
   "source": [
    "df.drop_duplicates(inplace=True, ignore_index=True)\n",
    "df.head()"
   ]
  },
  {
   "cell_type": "code",
   "execution_count": 6,
   "metadata": {
    "execution": {
     "iopub.execute_input": "2021-05-28T19:21:30.899983Z",
     "iopub.status.busy": "2021-05-28T19:21:30.899625Z",
     "iopub.status.idle": "2021-05-28T19:21:30.930230Z",
     "shell.execute_reply": "2021-05-28T19:21:30.929470Z",
     "shell.execute_reply.started": "2021-05-28T19:21:30.899950Z"
    }
   },
   "outputs": [
    {
     "name": "stdout",
     "output_type": "stream",
     "text": [
      "Eusebius of Caesarea\n",
      "\tDe Martyribus Palaestinae (Recensio Brevior)\n",
      "Demosthenes\n",
      "\tFor the Megalopolitans\n",
      "\tAgainst Evergus and Mnesibulus\n",
      "\tPhilippic 2\n",
      "\tAgainst Onetor\n",
      "\tPhilip\n",
      "Isocrates\n",
      "\tAgainst Callimachus\n",
      "\tTo Philip\n",
      "Aristophanes\n",
      "\tAcharnians\n",
      "Theophrastus\n",
      "\tDeLapidibus\n",
      "\tDeNervorumResolutione\n",
      "Lysias\n",
      "\tFor the Soldier\n",
      "\tAgainst Theomnestus 1\n",
      "\tAgainst Diogeiton\n",
      "Aristotle\n",
      "\tdeInterpretatione\n",
      "\tMeteorologica\n",
      "\tDePartibusAnimalium\n",
      "Plutarch\n",
      "\tCleomenes\n",
      "Euripides\n",
      "\tBacchae\n",
      "Appian\n",
      "\tSicily and the Other Islands\n",
      "Hippocrates\n",
      "\tDe glandulis\n",
      "\tDe muliebribus\n",
      "\tDe haemorrhoidibus\n",
      "\tIusiurandum\n",
      "\tDe affectionibus\n",
      "Plato\n",
      "\tTheages\n",
      "\tTimaeus\n",
      "\tCrito\n",
      "\tProtagoras\n",
      "Lucian\n",
      "\tMacrobii\n",
      "\tToxaris vel amicitia\n",
      "\tDeorum Concilium\n",
      "\tDe Syria Dea\n",
      "\tNigrinus\n"
     ]
    }
   ],
   "source": [
    "for autor in df.Autor.unique():\n",
    "    print(autor)\n",
    "    for obra in df[df.Autor==autor].Obra.unique():\n",
    "        print('\\t'+obra)\n",
    "\n",
    "        "
   ]
  },
  {
   "cell_type": "markdown",
   "metadata": {
    "id": "kkgsJxBZa1Dq"
   },
   "source": [
    "# Interpreter"
   ]
  },
  {
   "cell_type": "code",
   "execution_count": 10,
   "metadata": {
    "execution": {
     "iopub.execute_input": "2021-05-28T19:21:42.941936Z",
     "iopub.status.busy": "2021-05-28T19:21:42.941582Z",
     "iopub.status.idle": "2021-05-28T19:21:52.994992Z",
     "shell.execute_reply": "2021-05-28T19:21:52.992839Z",
     "shell.execute_reply.started": "2021-05-28T19:21:42.941905Z"
    },
    "id": "0rl-9fqgadTg"
   },
   "outputs": [
    {
     "name": "stdout",
     "output_type": "stream",
     "text": [
      "Collecting transformers-interpret\n",
      "  Using cached transformers-interpret-0.4.0.tar.gz (26 kB)\n",
      "Requirement already satisfied: transformers>=3.0.0 in /opt/conda/lib/python3.7/site-packages (from transformers-interpret) (4.5.1)\n",
      "Collecting captum>=0.3.1\n",
      "  Downloading captum-0.3.1-py3-none-any.whl (4.4 MB)\n",
      "\u001b[K     |████████████████████████████████| 4.4 MB 3.9 MB/s eta 0:00:01     |████████                        | 1.1 MB 865 kB/s eta 0:00:04\n",
      "\u001b[?25hRequirement already satisfied: numpy in /opt/conda/lib/python3.7/site-packages (from captum>=0.3.1->transformers-interpret) (1.19.5)\n",
      "Requirement already satisfied: matplotlib in /opt/conda/lib/python3.7/site-packages (from captum>=0.3.1->transformers-interpret) (3.4.1)\n",
      "Requirement already satisfied: torch>=1.2 in /opt/conda/lib/python3.7/site-packages (from captum>=0.3.1->transformers-interpret) (1.7.0)\n",
      "Requirement already satisfied: future in /opt/conda/lib/python3.7/site-packages (from torch>=1.2->captum>=0.3.1->transformers-interpret) (0.18.2)\n",
      "Requirement already satisfied: typing_extensions in /opt/conda/lib/python3.7/site-packages (from torch>=1.2->captum>=0.3.1->transformers-interpret) (3.7.4.3)\n",
      "Requirement already satisfied: dataclasses in /opt/conda/lib/python3.7/site-packages (from torch>=1.2->captum>=0.3.1->transformers-interpret) (0.6)\n",
      "Requirement already satisfied: packaging in /opt/conda/lib/python3.7/site-packages (from transformers>=3.0.0->transformers-interpret) (20.9)\n",
      "Requirement already satisfied: tokenizers<0.11,>=0.10.1 in /opt/conda/lib/python3.7/site-packages (from transformers>=3.0.0->transformers-interpret) (0.10.2)\n",
      "Requirement already satisfied: requests in /opt/conda/lib/python3.7/site-packages (from transformers>=3.0.0->transformers-interpret) (2.25.1)\n",
      "Requirement already satisfied: sacremoses in /opt/conda/lib/python3.7/site-packages (from transformers>=3.0.0->transformers-interpret) (0.0.45)\n",
      "Requirement already satisfied: filelock in /opt/conda/lib/python3.7/site-packages (from transformers>=3.0.0->transformers-interpret) (3.0.12)\n",
      "Requirement already satisfied: importlib-metadata in /opt/conda/lib/python3.7/site-packages (from transformers>=3.0.0->transformers-interpret) (3.4.0)\n",
      "Requirement already satisfied: regex!=2019.12.17 in /opt/conda/lib/python3.7/site-packages (from transformers>=3.0.0->transformers-interpret) (2021.3.17)\n",
      "Requirement already satisfied: tqdm>=4.27 in /opt/conda/lib/python3.7/site-packages (from transformers>=3.0.0->transformers-interpret) (4.59.0)\n",
      "Requirement already satisfied: zipp>=0.5 in /opt/conda/lib/python3.7/site-packages (from importlib-metadata->transformers>=3.0.0->transformers-interpret) (3.4.1)\n",
      "Requirement already satisfied: python-dateutil>=2.7 in /opt/conda/lib/python3.7/site-packages (from matplotlib->captum>=0.3.1->transformers-interpret) (2.8.1)\n",
      "Requirement already satisfied: pyparsing>=2.2.1 in /opt/conda/lib/python3.7/site-packages (from matplotlib->captum>=0.3.1->transformers-interpret) (2.4.7)\n",
      "Requirement already satisfied: kiwisolver>=1.0.1 in /opt/conda/lib/python3.7/site-packages (from matplotlib->captum>=0.3.1->transformers-interpret) (1.3.1)\n",
      "Requirement already satisfied: pillow>=6.2.0 in /opt/conda/lib/python3.7/site-packages (from matplotlib->captum>=0.3.1->transformers-interpret) (7.2.0)\n",
      "Requirement already satisfied: cycler>=0.10 in /opt/conda/lib/python3.7/site-packages (from matplotlib->captum>=0.3.1->transformers-interpret) (0.10.0)\n",
      "Requirement already satisfied: six in /opt/conda/lib/python3.7/site-packages (from cycler>=0.10->matplotlib->captum>=0.3.1->transformers-interpret) (1.15.0)\n",
      "Requirement already satisfied: urllib3<1.27,>=1.21.1 in /opt/conda/lib/python3.7/site-packages (from requests->transformers>=3.0.0->transformers-interpret) (1.26.4)\n",
      "Requirement already satisfied: chardet<5,>=3.0.2 in /opt/conda/lib/python3.7/site-packages (from requests->transformers>=3.0.0->transformers-interpret) (4.0.0)\n",
      "Requirement already satisfied: idna<3,>=2.5 in /opt/conda/lib/python3.7/site-packages (from requests->transformers>=3.0.0->transformers-interpret) (2.10)\n",
      "Requirement already satisfied: certifi>=2017.4.17 in /opt/conda/lib/python3.7/site-packages (from requests->transformers>=3.0.0->transformers-interpret) (2020.12.5)\n",
      "Requirement already satisfied: click in /opt/conda/lib/python3.7/site-packages (from sacremoses->transformers>=3.0.0->transformers-interpret) (7.1.2)\n",
      "Requirement already satisfied: joblib in /opt/conda/lib/python3.7/site-packages (from sacremoses->transformers>=3.0.0->transformers-interpret) (1.0.1)\n",
      "Building wheels for collected packages: transformers-interpret\n",
      "  Building wheel for transformers-interpret (setup.py) ... \u001b[?25ldone\n",
      "\u001b[?25h  Created wheel for transformers-interpret: filename=transformers_interpret-0.4.0-py3-none-any.whl size=21713 sha256=3be1e1b323f4ef5a12967ee15d6c3d24fd1f7b0ca4850494cb5538ecb42f978d\n",
      "  Stored in directory: /root/.cache/pip/wheels/dd/91/54/5d4fac93d2c3eea0fb6d7c9af00ea1a3eec72df11cdadf9d67\n",
      "Successfully built transformers-interpret\n",
      "Installing collected packages: captum, transformers-interpret\n",
      "Successfully installed captum-0.3.1 transformers-interpret-0.4.0\n"
     ]
    }
   ],
   "source": [
    "!pip install transformers-interpret"
   ]
  },
  {
   "cell_type": "code",
   "execution_count": 11,
   "metadata": {
    "execution": {
     "iopub.execute_input": "2021-05-28T19:21:52.999160Z",
     "iopub.status.busy": "2021-05-28T19:21:52.998788Z",
     "iopub.status.idle": "2021-05-28T19:22:00.177805Z",
     "shell.execute_reply": "2021-05-28T19:22:00.176942Z",
     "shell.execute_reply.started": "2021-05-28T19:21:52.999117Z"
    },
    "id": "E-83xGp2aIe8"
   },
   "outputs": [],
   "source": [
    "# https://github.com/cdpierse/transformers-interpret\n",
    "from transformers import AutoTokenizer\n",
    "from transformers_interpret import SequenceClassificationExplainer\n",
    "import torch\n",
    "import json\n",
    "from tqdm import tqdm\n",
    "\n",
    "tokenizer = AutoTokenizer.from_pretrained('nlpaueb/bert-base-greek-uncased-v1')\n",
    "interpreter = SequenceClassificationExplainer(model, tokenizer)"
   ]
  },
  {
   "cell_type": "code",
   "execution_count": 12,
   "metadata": {
    "execution": {
     "iopub.execute_input": "2021-05-28T19:22:00.179792Z",
     "iopub.status.busy": "2021-05-28T19:22:00.179482Z",
     "iopub.status.idle": "2021-05-28T19:22:00.193935Z",
     "shell.execute_reply": "2021-05-28T19:22:00.192827Z",
     "shell.execute_reply.started": "2021-05-28T19:22:00.179764Z"
    }
   },
   "outputs": [
    {
     "name": "stdout",
     "output_type": "stream",
     "text": [
      "{'Xenophon': 0, 'Pseudo-Xenophon': 1, 'Hyperides': 2, 'Lycurgus': 3, 'Eusebius of Caesarea': 4, 'Demosthenes': 5, 'Homer': 6, 'Sophocles': 7, 'Isocrates': 8, 'Aristophanes': 9, 'Theophrastus': 10, 'Julian the Emperor': 11, 'Herodotus': 12, 'Strabo': 13, 'Aeschines': 14, 'Pausanias': 15, 'Andocides': 16, 'Antiphon': 17, 'Dinarchus': 18, 'Arrian': 19, 'Callimachus': 20, 'Lysias': 21, 'Apollonius Rhodius': 22, 'Thucydides': 23, 'Philostratus the Athenian': 24, 'Aristotle': 25, 'John, of Damascus (attributed author)': 26, 'Aeschylus': 27, 'Theocritus': 28, 'Apollodorus': 29, 'Plutarch': 30, 'Euripides': 31, 'Polybius': 32, 'Athenaeus': 33, 'Aelian': 34, 'Dionysius of Halicarnassus': 35, 'Procopius': 36, 'Appian': 37, 'Hippocrates': 38, 'Plato': 39, 'Basil, Saint, Bishop of Caesarea': 40, 'Aeneas Tacticus': 41, 'Asclepiodotus': 42, 'Quintus Smyrnaeus': 43, 'Clement of Alexandria': 44, 'Nonnus of Panopolis': 45, 'Cassius Dio Cocceianus': 46, 'Longinus': 47, 'Marcus Aurelius': 48, 'Longus': 49, 'Demetrius of Phaleron (attributed author)': 50, 'Barnabas': 51, 'Dio Chrysostom': 52, 'Lucian': 53, 'Callistratus': 54, 'Philostratus The Athenian': 55}\n"
     ]
    }
   ],
   "source": [
    "with open('../input/label-encoder/labels_encoder.json', 'r') as f:\n",
    "    json_dict = f.read()\n",
    "    label_encoder = json.loads(json_dict)\n",
    "print(label_encoder)"
   ]
  },
  {
   "cell_type": "code",
   "execution_count": 30,
   "metadata": {
    "execution": {
     "iopub.execute_input": "2021-05-28T19:44:50.283928Z",
     "iopub.status.busy": "2021-05-28T19:44:50.283571Z",
     "iopub.status.idle": "2021-05-28T19:44:50.294045Z",
     "shell.execute_reply": "2021-05-28T19:44:50.293197Z",
     "shell.execute_reply.started": "2021-05-28T19:44:50.283897Z"
    }
   },
   "outputs": [],
   "source": [
    "class TextPredictor():\n",
    "    def __init__(self, df, text_name, author, model=model, tokenizer=tokenizer, encoder=label_encoder):\n",
    "        self.df = df\n",
    "        self.text = text_name\n",
    "        self.author = author\n",
    "        self.model = model\n",
    "        self.tokenizer = tokenizer\n",
    "        self.encoder = encoder\n",
    "        self.chunks = self.fragment()\n",
    "\n",
    "    def fragment(self):\n",
    "        text_list = self.df[self.df.Obra == self.text].Texto.to_list()\n",
    "        text = ' '.join(text_list)\n",
    "        #print(text)\n",
    "        splitted_text = text.split()\n",
    "        n = 100\n",
    "        text_chunks = [' '.join(splitted_text[i:i+n]) for i in range(0,len(splitted_text),n)]\n",
    "        return text_chunks\n",
    "\n",
    "    def predict(self):\n",
    "        predictions = self.init_predict_dict()\n",
    "        for text in tqdm(self.chunks):\n",
    "            # interpreter = SequenceClassificationExplainer(self.model, self.tokenizer)\n",
    "            try:\n",
    "                prediction = interpreter(text)\n",
    "                predicted_label=interpreter.predicted_class_name.spli('_')[-1]\n",
    "                predicted_accuracy = sum([i for _,i in prediction])\n",
    "                #interpreter.visualize()\n",
    "                for autor,label in self.encoder.items():\n",
    "                    if label == predicted_label:\n",
    "                        predictions[autor] += predicted_accuracy\n",
    "                        break\n",
    "                        \n",
    "            except:\n",
    "                print(f'Error while predicting {text}')\n",
    "        \n",
    "        self.show_predictions(predictions)\n",
    "                \n",
    "\n",
    "    def show_prediction(self, predictions):\n",
    "        print(f'Text: {self.text}')\n",
    "        print('True author: '+self.author)\n",
    "        predicted_autor, confidence = self.confidence(predictions)\n",
    "        print('\\tPrediction: {}\\n\\tConfidence: {} %'.format(predicted_autor,str(confidence)))\n",
    "\n",
    "    def init_prediction_dict(self):\n",
    "        pred_dict = {}\n",
    "        for autor in self.encoder.keys():\n",
    "            pred_dict[autor] = 0\n",
    "        return pred_dict\n",
    "    \n",
    "    def confidence(self, predictions):\n",
    "        predicted_autor = max(predictions, key=predictions.get)        \n",
    "        \n",
    "        confidence = predictions[predicted_autor]/sum(predictions.values) * 100\n",
    "        return predicted_autor, confidence"
   ]
  },
  {
   "cell_type": "code",
   "execution_count": 29,
   "metadata": {
    "execution": {
     "iopub.execute_input": "2021-05-28T19:44:37.603941Z",
     "iopub.status.busy": "2021-05-28T19:44:37.603576Z",
     "iopub.status.idle": "2021-05-28T19:44:38.261027Z",
     "shell.execute_reply": "2021-05-28T19:44:38.260124Z",
     "shell.execute_reply.started": "2021-05-28T19:44:37.603909Z"
    }
   },
   "outputs": [
    {
     "name": "stderr",
     "output_type": "stream",
     "text": [
      "  0%|          | 0/1 [00:00<?, ?it/s]"
     ]
    },
    {
     "name": "stdout",
     "output_type": "stream",
     "text": [
      "πλην ει συ μεν πεισθειης πλειονος αξιαν εσεσθαι σοι την της πολεως φιλιαν η τας προσοδους τας εξ αμφιπολεως γιγνομενας, η δε πολις δυνηθειη καταμαθειν ως χρη τας μεν τοιαυτας φευγειν αποικιας, αι τινες τετρακις η πεντακις απολωλεκασι τους εμπολιτευθεντας, ζητειν δ᾽ εκεινους τους τοπους τους πορρω μεν κειμενους των αρχειν δυναμενων, εγγυς δε των δουλευειν ειθισμενων, εις οιον περ λακεδαιμονιοι κυρηναιους απωκισαν:\n"
     ]
    },
    {
     "name": "stderr",
     "output_type": "stream",
     "text": [
      "100%|██████████| 1/1 [00:00<00:00,  1.56it/s]"
     ]
    },
    {
     "name": "stdout",
     "output_type": "stream",
     "text": [
      "Text: To Philip\n",
      "True author: Isocrates\n",
      "\tPrediction: Isocrates\n",
      "\tConfidence: 100.0 %\n"
     ]
    },
    {
     "name": "stderr",
     "output_type": "stream",
     "text": [
      "\n"
     ]
    }
   ],
   "source": [
    "TextPredictor(df, 'To Philip', 'Isocrates').predict()"
   ]
  },
  {
   "cell_type": "code",
   "execution_count": 31,
   "metadata": {
    "execution": {
     "iopub.execute_input": "2021-05-28T19:44:55.320985Z",
     "iopub.status.busy": "2021-05-28T19:44:55.320623Z",
     "iopub.status.idle": "2021-05-28T20:34:59.732648Z",
     "shell.execute_reply": "2021-05-28T20:34:59.731807Z",
     "shell.execute_reply.started": "2021-05-28T19:44:55.320956Z"
    },
    "scrolled": true
   },
   "outputs": [
    {
     "name": "stderr",
     "output_type": "stream",
     "text": [
      "100%|██████████| 157/157 [02:23<00:00,  1.09it/s]\n",
      "  0%|          | 0/19 [00:00<?, ?it/s]"
     ]
    },
    {
     "name": "stdout",
     "output_type": "stream",
     "text": [
      "Text: De Martyribus Palaestinae (Recensio Brevior)\n",
      "True author: Eusebius of Caesarea\n",
      "\tPrediction: Eusebius of Caesarea\n",
      "\tConfidence: 96.81528662420382 %\n",
      "\tPrediction: John, of Damascus (attributed author)\n",
      "\tConfidence: 0.6369426751592356 %\n",
      "\tPrediction: Lucian\n",
      "\tConfidence: 1.910828025477707 %\n",
      "\tPrediction: Julian the Emperor\n",
      "\tConfidence: 0.6369426751592356 %\n"
     ]
    },
    {
     "name": "stderr",
     "output_type": "stream",
     "text": [
      "100%|██████████| 19/19 [00:16<00:00,  1.18it/s]\n",
      "  0%|          | 0/54 [00:00<?, ?it/s]"
     ]
    },
    {
     "name": "stdout",
     "output_type": "stream",
     "text": [
      "Text: For the Megalopolitans\n",
      "True author: Demosthenes\n",
      "\tPrediction: Andocides\n",
      "\tConfidence: 5.2631578947368425 %\n",
      "\tPrediction: Demosthenes\n",
      "\tConfidence: 84.21052631578948 %\n",
      "\tPrediction: Isocrates\n",
      "\tConfidence: 5.2631578947368425 %\n",
      "\tPrediction: Dio Chrysostom\n",
      "\tConfidence: 5.2631578947368425 %\n"
     ]
    },
    {
     "name": "stderr",
     "output_type": "stream",
     "text": [
      "100%|██████████| 54/54 [00:48<00:00,  1.12it/s]\n",
      "  0%|          | 0/20 [00:00<?, ?it/s]"
     ]
    },
    {
     "name": "stdout",
     "output_type": "stream",
     "text": [
      "Text: Against Evergus and Mnesibulus\n",
      "True author: Demosthenes\n",
      "\tPrediction: Lysias\n",
      "\tConfidence: 9.25925925925926 %\n",
      "\tPrediction: Dio Chrysostom\n",
      "\tConfidence: 3.7037037037037037 %\n",
      "\tPrediction: Andocides\n",
      "\tConfidence: 3.7037037037037037 %\n",
      "\tPrediction: Demosthenes\n",
      "\tConfidence: 77.77777777777777 %\n",
      "\tPrediction: Aeschines\n",
      "\tConfidence: 1.8518518518518519 %\n",
      "\tPrediction: Dionysius of Halicarnassus\n",
      "\tConfidence: 3.7037037037037037 %\n"
     ]
    },
    {
     "name": "stderr",
     "output_type": "stream",
     "text": [
      "100%|██████████| 20/20 [00:16<00:00,  1.18it/s]\n",
      "  0%|          | 0/34 [00:00<?, ?it/s]"
     ]
    },
    {
     "name": "stdout",
     "output_type": "stream",
     "text": [
      "Text: Philippic 2\n",
      "True author: Demosthenes\n",
      "\tPrediction: Demosthenes\n",
      "\tConfidence: 100.0 %\n"
     ]
    },
    {
     "name": "stderr",
     "output_type": "stream",
     "text": [
      "100%|██████████| 34/34 [00:29<00:00,  1.15it/s]\n",
      "  0%|          | 0/15 [00:00<?, ?it/s]"
     ]
    },
    {
     "name": "stdout",
     "output_type": "stream",
     "text": [
      "Text: Against Onetor\n",
      "True author: Demosthenes\n",
      "\tPrediction: Dionysius of Halicarnassus\n",
      "\tConfidence: 11.764705882352942 %\n",
      "\tPrediction: Demosthenes\n",
      "\tConfidence: 82.3529411764706 %\n",
      "\tPrediction: Procopius\n",
      "\tConfidence: 2.9411764705882355 %\n",
      "\tPrediction: Dio Chrysostom\n",
      "\tConfidence: 2.9411764705882355 %\n"
     ]
    },
    {
     "name": "stderr",
     "output_type": "stream",
     "text": [
      "100%|██████████| 15/15 [00:12<00:00,  1.19it/s]\n",
      "  0%|          | 0/1 [00:00<?, ?it/s]"
     ]
    },
    {
     "name": "stdout",
     "output_type": "stream",
     "text": [
      "Text: Philip\n",
      "True author: Demosthenes\n",
      "\tPrediction: Lycurgus\n",
      "\tConfidence: 13.333333333333334 %\n",
      "\tPrediction: Polybius\n",
      "\tConfidence: 6.666666666666667 %\n",
      "\tPrediction: Dio Chrysostom\n",
      "\tConfidence: 20.0 %\n",
      "\tPrediction: Andocides\n",
      "\tConfidence: 6.666666666666667 %\n",
      "\tPrediction: Demosthenes\n",
      "\tConfidence: 40.0 %\n",
      "\tPrediction: Isocrates\n",
      "\tConfidence: 6.666666666666667 %\n",
      "\tPrediction: Dionysius of Halicarnassus\n",
      "\tConfidence: 6.666666666666667 %\n"
     ]
    },
    {
     "name": "stderr",
     "output_type": "stream",
     "text": [
      "100%|██████████| 1/1 [00:00<00:00,  2.19it/s]\n",
      "  0%|          | 0/1 [00:00<?, ?it/s]"
     ]
    },
    {
     "name": "stdout",
     "output_type": "stream",
     "text": [
      "Text: Against Callimachus\n",
      "True author: Isocrates\n",
      "\tPrediction: Lysias\n",
      "\tConfidence: 100.0 %\n"
     ]
    },
    {
     "name": "stderr",
     "output_type": "stream",
     "text": [
      "100%|██████████| 1/1 [00:00<00:00,  1.64it/s]\n",
      "  0%|          | 0/66 [00:00<?, ?it/s]"
     ]
    },
    {
     "name": "stdout",
     "output_type": "stream",
     "text": [
      "Text: To Philip\n",
      "True author: Isocrates\n",
      "\tPrediction: Isocrates\n",
      "\tConfidence: 100.0 %\n"
     ]
    },
    {
     "name": "stderr",
     "output_type": "stream",
     "text": [
      "100%|██████████| 66/66 [01:04<00:00,  1.03it/s]\n",
      "  0%|          | 0/31 [00:00<?, ?it/s]"
     ]
    },
    {
     "name": "stdout",
     "output_type": "stream",
     "text": [
      "Text: Acharnians\n",
      "True author: Aristophanes\n",
      "\tPrediction: Athenaeus\n",
      "\tConfidence: 10.606060606060606 %\n",
      "\tPrediction: Lucian\n",
      "\tConfidence: 36.36363636363637 %\n",
      "\tPrediction: Dio Chrysostom\n",
      "\tConfidence: 10.606060606060606 %\n",
      "\tPrediction: Demosthenes\n",
      "\tConfidence: 25.757575757575758 %\n",
      "\tPrediction: Plato\n",
      "\tConfidence: 3.0303030303030303 %\n",
      "\tPrediction: Philostratus the Athenian\n",
      "\tConfidence: 4.545454545454546 %\n",
      "\tPrediction: Dionysius of Halicarnassus\n",
      "\tConfidence: 6.0606060606060606 %\n",
      "\tPrediction: Callimachus\n",
      "\tConfidence: 3.0303030303030303 %\n"
     ]
    },
    {
     "name": "stderr",
     "output_type": "stream",
     "text": [
      "100%|██████████| 31/31 [00:25<00:00,  1.20it/s]\n",
      "  0%|          | 0/1 [00:00<?, ?it/s]"
     ]
    },
    {
     "name": "stdout",
     "output_type": "stream",
     "text": [
      "Text: DeLapidibus\n",
      "True author: Theophrastus\n",
      "\tPrediction: Theophrastus\n",
      "\tConfidence: 100.0 %\n"
     ]
    },
    {
     "name": "stderr",
     "output_type": "stream",
     "text": [
      "100%|██████████| 1/1 [00:00<00:00,  1.29it/s]\n",
      "  0%|          | 0/9 [00:00<?, ?it/s]"
     ]
    },
    {
     "name": "stdout",
     "output_type": "stream",
     "text": [
      "Text: DeNervorumResolutione\n",
      "True author: Theophrastus\n",
      "\tPrediction: Theophrastus\n",
      "\tConfidence: 100.0 %\n"
     ]
    },
    {
     "name": "stderr",
     "output_type": "stream",
     "text": [
      "100%|██████████| 9/9 [00:08<00:00,  1.07it/s]\n",
      "  0%|          | 0/15 [00:00<?, ?it/s]"
     ]
    },
    {
     "name": "stdout",
     "output_type": "stream",
     "text": [
      "Text: For the Soldier\n",
      "True author: Lysias\n",
      "\tPrediction: Lysias\n",
      "\tConfidence: 44.44444444444444 %\n",
      "\tPrediction: Dionysius of Halicarnassus\n",
      "\tConfidence: 22.22222222222222 %\n",
      "\tPrediction: Dio Chrysostom\n",
      "\tConfidence: 22.22222222222222 %\n",
      "\tPrediction: Hyperides\n",
      "\tConfidence: 11.11111111111111 %\n"
     ]
    },
    {
     "name": "stderr",
     "output_type": "stream",
     "text": [
      "100%|██████████| 15/15 [00:13<00:00,  1.13it/s]\n",
      "  0%|          | 0/18 [00:00<?, ?it/s]"
     ]
    },
    {
     "name": "stdout",
     "output_type": "stream",
     "text": [
      "Text: Against Theomnestus 1\n",
      "True author: Lysias\n",
      "\tPrediction: Lysias\n",
      "\tConfidence: 46.666666666666664 %\n",
      "\tPrediction: Aeschines\n",
      "\tConfidence: 6.666666666666667 %\n",
      "\tPrediction: Demosthenes\n",
      "\tConfidence: 40.0 %\n",
      "\tPrediction: Dio Chrysostom\n",
      "\tConfidence: 6.666666666666667 %\n"
     ]
    },
    {
     "name": "stderr",
     "output_type": "stream",
     "text": [
      "100%|██████████| 18/18 [00:16<00:00,  1.11it/s]\n",
      "  0%|          | 0/62 [00:00<?, ?it/s]"
     ]
    },
    {
     "name": "stdout",
     "output_type": "stream",
     "text": [
      "Text: Against Diogeiton\n",
      "True author: Lysias\n",
      "\tPrediction: Lysias\n",
      "\tConfidence: 44.44444444444444 %\n",
      "\tPrediction: Dionysius of Halicarnassus\n",
      "\tConfidence: 11.11111111111111 %\n",
      "\tPrediction: Demosthenes\n",
      "\tConfidence: 38.888888888888886 %\n",
      "\tPrediction: Aristophanes\n",
      "\tConfidence: 5.555555555555555 %\n"
     ]
    },
    {
     "name": "stderr",
     "output_type": "stream",
     "text": [
      "100%|██████████| 62/62 [00:46<00:00,  1.34it/s]\n",
      "  0%|          | 0/312 [00:00<?, ?it/s]"
     ]
    },
    {
     "name": "stdout",
     "output_type": "stream",
     "text": [
      "Text: deInterpretatione\n",
      "True author: Aristotle\n",
      "\tPrediction: Theophrastus\n",
      "\tConfidence: 1.6129032258064515 %\n",
      "\tPrediction: Demetrius of Phaleron (attributed author)\n",
      "\tConfidence: 1.6129032258064515 %\n",
      "\tPrediction: Dio Chrysostom\n",
      "\tConfidence: 1.6129032258064515 %\n",
      "\tPrediction: Plato\n",
      "\tConfidence: 1.6129032258064515 %\n",
      "\tPrediction: Aristotle\n",
      "\tConfidence: 93.54838709677419 %\n"
     ]
    },
    {
     "name": "stderr",
     "output_type": "stream",
     "text": [
      "100%|██████████| 312/312 [04:16<00:00,  1.21it/s]\n",
      "  0%|          | 0/659 [00:00<?, ?it/s]"
     ]
    },
    {
     "name": "stdout",
     "output_type": "stream",
     "text": [
      "Text: Meteorologica\n",
      "True author: Aristotle\n",
      "\tPrediction: Theophrastus\n",
      "\tConfidence: 64.42307692307692 %\n",
      "\tPrediction: Dio Chrysostom\n",
      "\tConfidence: 0.9615384615384616 %\n",
      "\tPrediction: Strabo\n",
      "\tConfidence: 0.32051282051282054 %\n",
      "\tPrediction: Plato\n",
      "\tConfidence: 0.32051282051282054 %\n",
      "\tPrediction: Eusebius of Caesarea\n",
      "\tConfidence: 0.32051282051282054 %\n",
      "\tPrediction: Lucian\n",
      "\tConfidence: 0.9615384615384616 %\n",
      "\tPrediction: Aristotle\n",
      "\tConfidence: 32.69230769230769 %\n"
     ]
    },
    {
     "name": "stderr",
     "output_type": "stream",
     "text": [
      "100%|██████████| 659/659 [09:03<00:00,  1.21it/s]\n",
      "  0%|          | 0/90 [00:00<?, ?it/s]"
     ]
    },
    {
     "name": "stdout",
     "output_type": "stream",
     "text": [
      "Text: DePartibusAnimalium\n",
      "True author: Aristotle\n",
      "\tPrediction: Theophrastus\n",
      "\tConfidence: 65.55386949924127 %\n",
      "\tPrediction: Demetrius of Phaleron (attributed author)\n",
      "\tConfidence: 1.5174506828528074 %\n",
      "\tPrediction: Lucian\n",
      "\tConfidence: 0.30349013657056145 %\n",
      "\tPrediction: Marcus Aurelius\n",
      "\tConfidence: 0.15174506828528073 %\n",
      "\tPrediction: Dio Chrysostom\n",
      "\tConfidence: 1.8209408194233687 %\n",
      "\tPrediction: Plato\n",
      "\tConfidence: 0.30349013657056145 %\n",
      "\tPrediction: Julian the Emperor\n",
      "\tConfidence: 0.15174506828528073 %\n",
      "\tPrediction: Aristotle\n",
      "\tConfidence: 30.197268588770864 %\n"
     ]
    },
    {
     "name": "stderr",
     "output_type": "stream",
     "text": [
      "100%|██████████| 90/90 [01:21<00:00,  1.11it/s]\n",
      "  0%|          | 0/69 [00:00<?, ?it/s]"
     ]
    },
    {
     "name": "stdout",
     "output_type": "stream",
     "text": [
      "Text: Cleomenes\n",
      "True author: Plutarch\n",
      "\tPrediction: Athenaeus\n",
      "\tConfidence: 1.1111111111111112 %\n",
      "\tPrediction: Lucian\n",
      "\tConfidence: 1.1111111111111112 %\n",
      "\tPrediction: Dio Chrysostom\n",
      "\tConfidence: 31.11111111111111 %\n",
      "\tPrediction: Plutarch\n",
      "\tConfidence: 52.22222222222222 %\n",
      "\tPrediction: Aelian\n",
      "\tConfidence: 1.1111111111111112 %\n",
      "\tPrediction: Dionysius of Halicarnassus\n",
      "\tConfidence: 12.222222222222221 %\n",
      "\tPrediction: Julian the Emperor\n",
      "\tConfidence: 1.1111111111111112 %\n"
     ]
    },
    {
     "name": "stderr",
     "output_type": "stream",
     "text": [
      "100%|██████████| 69/69 [01:07<00:00,  1.02it/s]\n",
      "  0%|          | 0/19 [00:00<?, ?it/s]"
     ]
    },
    {
     "name": "stdout",
     "output_type": "stream",
     "text": [
      "Text: Bacchae\n",
      "True author: Euripides\n",
      "\tPrediction: Athenaeus\n",
      "\tConfidence: 2.898550724637681 %\n",
      "\tPrediction: Euripides\n",
      "\tConfidence: 15.942028985507246 %\n",
      "\tPrediction: Theocritus\n",
      "\tConfidence: 21.73913043478261 %\n",
      "\tPrediction: Strabo\n",
      "\tConfidence: 1.4492753623188406 %\n",
      "\tPrediction: Appian\n",
      "\tConfidence: 4.3478260869565215 %\n",
      "\tPrediction: Demosthenes\n",
      "\tConfidence: 2.898550724637681 %\n",
      "\tPrediction: Philostratus the Athenian\n",
      "\tConfidence: 5.797101449275362 %\n",
      "\tPrediction: Sophocles\n",
      "\tConfidence: 13.043478260869565 %\n",
      "\tPrediction: Apollodorus\n",
      "\tConfidence: 4.3478260869565215 %\n",
      "\tPrediction: Dionysius of Halicarnassus\n",
      "\tConfidence: 18.840579710144926 %\n",
      "\tPrediction: Nonnus of Panopolis\n",
      "\tConfidence: 1.4492753623188406 %\n",
      "\tPrediction: Callimachus\n",
      "\tConfidence: 7.246376811594203 %\n"
     ]
    },
    {
     "name": "stderr",
     "output_type": "stream",
     "text": [
      "100%|██████████| 19/19 [00:18<00:00,  1.01it/s]\n",
      "  0%|          | 0/6 [00:00<?, ?it/s]"
     ]
    },
    {
     "name": "stdout",
     "output_type": "stream",
     "text": [
      "Text: Sicily and the Other Islands\n",
      "True author: Appian\n",
      "\tPrediction: Appian\n",
      "\tConfidence: 94.73684210526316 %\n",
      "\tPrediction: Cassius Dio Cocceianus\n",
      "\tConfidence: 5.2631578947368425 %\n"
     ]
    },
    {
     "name": "stderr",
     "output_type": "stream",
     "text": [
      "100%|██████████| 6/6 [00:04<00:00,  1.25it/s]\n",
      "  0%|          | 0/853 [00:00<?, ?it/s]"
     ]
    },
    {
     "name": "stdout",
     "output_type": "stream",
     "text": [
      "Text: De glandulis\n",
      "True author: Hippocrates\n",
      "\tPrediction: Theophrastus\n",
      "\tConfidence: 16.666666666666668 %\n",
      "\tPrediction: Hippocrates\n",
      "\tConfidence: 83.33333333333333 %\n"
     ]
    },
    {
     "name": "stderr",
     "output_type": "stream",
     "text": [
      "100%|██████████| 853/853 [14:18<00:00,  1.01s/it]\n",
      "  0%|          | 0/9 [00:00<?, ?it/s]"
     ]
    },
    {
     "name": "stdout",
     "output_type": "stream",
     "text": [
      "Text: De muliebribus\n",
      "True author: Hippocrates\n",
      "\tPrediction: Hippocrates\n",
      "\tConfidence: 100.0 %\n"
     ]
    },
    {
     "name": "stderr",
     "output_type": "stream",
     "text": [
      "100%|██████████| 9/9 [00:08<00:00,  1.01it/s]\n",
      "  0%|          | 0/3 [00:00<?, ?it/s]"
     ]
    },
    {
     "name": "stdout",
     "output_type": "stream",
     "text": [
      "Text: De haemorrhoidibus\n",
      "True author: Hippocrates\n",
      "\tPrediction: Hippocrates\n",
      "\tConfidence: 100.0 %\n"
     ]
    },
    {
     "name": "stderr",
     "output_type": "stream",
     "text": [
      "100%|██████████| 3/3 [00:02<00:00,  1.14it/s]\n",
      "  0%|          | 0/74 [00:00<?, ?it/s]"
     ]
    },
    {
     "name": "stdout",
     "output_type": "stream",
     "text": [
      "Text: Iusiurandum\n",
      "True author: Hippocrates\n",
      "\tPrediction: Hippocrates\n",
      "\tConfidence: 100.0 %\n"
     ]
    },
    {
     "name": "stderr",
     "output_type": "stream",
     "text": [
      "100%|██████████| 74/74 [01:08<00:00,  1.08it/s]\n",
      "  0%|          | 0/35 [00:00<?, ?it/s]"
     ]
    },
    {
     "name": "stdout",
     "output_type": "stream",
     "text": [
      "Text: De affectionibus\n",
      "True author: Hippocrates\n",
      "\tPrediction: Hippocrates\n",
      "\tConfidence: 100.0 %\n"
     ]
    },
    {
     "name": "stderr",
     "output_type": "stream",
     "text": [
      "100%|██████████| 35/35 [00:31<00:00,  1.13it/s]\n",
      "  0%|          | 0/238 [00:00<?, ?it/s]"
     ]
    },
    {
     "name": "stdout",
     "output_type": "stream",
     "text": [
      "Text: Theages\n",
      "True author: Plato\n",
      "\tPrediction: Plato\n",
      "\tConfidence: 91.42857142857143 %\n",
      "\tPrediction: Lucian\n",
      "\tConfidence: 2.857142857142857 %\n",
      "\tPrediction: Dio Chrysostom\n",
      "\tConfidence: 5.714285714285714 %\n"
     ]
    },
    {
     "name": "stderr",
     "output_type": "stream",
     "text": [
      "100%|██████████| 238/238 [03:23<00:00,  1.17it/s]\n",
      "  0%|          | 0/42 [00:00<?, ?it/s]"
     ]
    },
    {
     "name": "stdout",
     "output_type": "stream",
     "text": [
      "Text: Timaeus\n",
      "True author: Plato\n",
      "\tPrediction: Aristotle\n",
      "\tConfidence: 1.680672268907563 %\n",
      "\tPrediction: Theophrastus\n",
      "\tConfidence: 13.865546218487395 %\n",
      "\tPrediction: Marcus Aurelius\n",
      "\tConfidence: 1.2605042016806722 %\n",
      "\tPrediction: Dio Chrysostom\n",
      "\tConfidence: 3.361344537815126 %\n",
      "\tPrediction: Plato\n",
      "\tConfidence: 50.0 %\n",
      "\tPrediction: Eusebius of Caesarea\n",
      "\tConfidence: 6.722689075630252 %\n",
      "\tPrediction: Hippocrates\n",
      "\tConfidence: 0.42016806722689076 %\n",
      "\tPrediction: Dionysius of Halicarnassus\n",
      "\tConfidence: 0.42016806722689076 %\n",
      "\tPrediction: Lucian\n",
      "\tConfidence: 13.865546218487395 %\n",
      "\tPrediction: Julian the Emperor\n",
      "\tConfidence: 6.302521008403361 %\n",
      "\tPrediction: Clement of Alexandria\n",
      "\tConfidence: 2.100840336134454 %\n"
     ]
    },
    {
     "name": "stderr",
     "output_type": "stream",
     "text": [
      "100%|██████████| 42/42 [00:37<00:00,  1.13it/s]\n",
      "  0%|          | 0/170 [00:00<?, ?it/s]"
     ]
    },
    {
     "name": "stdout",
     "output_type": "stream",
     "text": [
      "Text: Crito\n",
      "True author: Plato\n",
      "\tPrediction: Plato\n",
      "\tConfidence: 85.71428571428571 %\n",
      "\tPrediction: Lucian\n",
      "\tConfidence: 11.904761904761905 %\n",
      "\tPrediction: Dio Chrysostom\n",
      "\tConfidence: 2.380952380952381 %\n"
     ]
    },
    {
     "name": "stderr",
     "output_type": "stream",
     "text": [
      "100%|██████████| 170/170 [02:32<00:00,  1.12it/s]\n",
      "  0%|          | 0/22 [00:00<?, ?it/s]"
     ]
    },
    {
     "name": "stdout",
     "output_type": "stream",
     "text": [
      "Text: Protagoras\n",
      "True author: Plato\n",
      "\tPrediction: Theophrastus\n",
      "\tConfidence: 1.1764705882352942 %\n",
      "\tPrediction: Dio Chrysostom\n",
      "\tConfidence: 7.647058823529412 %\n",
      "\tPrediction: Plato\n",
      "\tConfidence: 72.94117647058823 %\n",
      "\tPrediction: Xenophon\n",
      "\tConfidence: 1.1764705882352942 %\n",
      "\tPrediction: Lucian\n",
      "\tConfidence: 14.705882352941176 %\n",
      "\tPrediction: Aristotle\n",
      "\tConfidence: 2.3529411764705883 %\n"
     ]
    },
    {
     "name": "stderr",
     "output_type": "stream",
     "text": [
      "100%|██████████| 22/22 [00:19<00:00,  1.11it/s]\n",
      "  0%|          | 0/98 [00:00<?, ?it/s]"
     ]
    },
    {
     "name": "stdout",
     "output_type": "stream",
     "text": [
      "Text: Macrobii\n",
      "True author: Lucian\n",
      "\tPrediction: Dio Chrysostom\n",
      "\tConfidence: 9.090909090909092 %\n",
      "\tPrediction: Appian\n",
      "\tConfidence: 9.090909090909092 %\n",
      "\tPrediction: Eusebius of Caesarea\n",
      "\tConfidence: 9.090909090909092 %\n",
      "\tPrediction: Dionysius of Halicarnassus\n",
      "\tConfidence: 18.181818181818183 %\n",
      "\tPrediction: Lucian\n",
      "\tConfidence: 50.0 %\n",
      "\tPrediction: Julian the Emperor\n",
      "\tConfidence: 4.545454545454546 %\n"
     ]
    },
    {
     "name": "stderr",
     "output_type": "stream",
     "text": [
      "100%|██████████| 98/98 [01:28<00:00,  1.11it/s]\n",
      "  0%|          | 0/20 [00:00<?, ?it/s]"
     ]
    },
    {
     "name": "stdout",
     "output_type": "stream",
     "text": [
      "Text: Toxaris vel amicitia\n",
      "True author: Lucian\n",
      "\tPrediction: Dio Chrysostom\n",
      "\tConfidence: 20.408163265306122 %\n",
      "\tPrediction: Plato\n",
      "\tConfidence: 1.0204081632653061 %\n",
      "\tPrediction: Plutarch\n",
      "\tConfidence: 2.0408163265306123 %\n",
      "\tPrediction: Philostratus the Athenian\n",
      "\tConfidence: 1.0204081632653061 %\n",
      "\tPrediction: Dionysius of Halicarnassus\n",
      "\tConfidence: 3.061224489795918 %\n",
      "\tPrediction: Lucian\n",
      "\tConfidence: 72.44897959183673 %\n"
     ]
    },
    {
     "name": "stderr",
     "output_type": "stream",
     "text": [
      "100%|██████████| 20/20 [00:17<00:00,  1.14it/s]\n",
      "  0%|          | 0/65 [00:00<?, ?it/s]"
     ]
    },
    {
     "name": "stdout",
     "output_type": "stream",
     "text": [
      "Text: Deorum Concilium\n",
      "True author: Lucian\n",
      "\tPrediction: Philostratus The Athenian\n",
      "\tConfidence: 5.0 %\n",
      "\tPrediction: Lucian\n",
      "\tConfidence: 85.0 %\n",
      "\tPrediction: Cassius Dio Cocceianus\n",
      "\tConfidence: 5.0 %\n",
      "\tPrediction: Dio Chrysostom\n",
      "\tConfidence: 5.0 %\n"
     ]
    },
    {
     "name": "stderr",
     "output_type": "stream",
     "text": [
      "100%|██████████| 65/65 [01:02<00:00,  1.04it/s]\n",
      "  0%|          | 0/42 [00:00<?, ?it/s]"
     ]
    },
    {
     "name": "stdout",
     "output_type": "stream",
     "text": [
      "Text: De Syria Dea\n",
      "True author: Lucian\n",
      "\tPrediction: Lucian\n",
      "\tConfidence: 52.30769230769231 %\n",
      "\tPrediction: Hippocrates\n",
      "\tConfidence: 38.46153846153846 %\n",
      "\tPrediction: Dio Chrysostom\n",
      "\tConfidence: 1.5384615384615385 %\n",
      "\tPrediction: Herodotus\n",
      "\tConfidence: 7.6923076923076925 %\n"
     ]
    },
    {
     "name": "stderr",
     "output_type": "stream",
     "text": [
      "100%|██████████| 42/42 [00:37<00:00,  1.12it/s]"
     ]
    },
    {
     "name": "stdout",
     "output_type": "stream",
     "text": [
      "Text: Nigrinus\n",
      "True author: Lucian\n",
      "\tPrediction: Lucian\n",
      "\tConfidence: 80.95238095238095 %\n",
      "\tPrediction: Dio Chrysostom\n",
      "\tConfidence: 9.523809523809524 %\n",
      "\tPrediction: Eusebius of Caesarea\n",
      "\tConfidence: 2.380952380952381 %\n",
      "\tPrediction: Hippocrates\n",
      "\tConfidence: 2.380952380952381 %\n",
      "\tPrediction: Julian the Emperor\n",
      "\tConfidence: 4.761904761904762 %\n"
     ]
    },
    {
     "name": "stderr",
     "output_type": "stream",
     "text": [
      "\n"
     ]
    }
   ],
   "source": [
    "for autor in df.Autor.unique():\n",
    "    for obra in df[df.Autor==autor].Obra.unique():\n",
    "        TextPredictor(df, obra, autor, model, tokenizer, label_encoder).predict()"
   ]
  }
 ],
 "metadata": {
  "kernelspec": {
   "display_name": "saturdays",
   "language": "python",
   "name": "saturdays"
  },
  "language_info": {
   "codemirror_mode": {
    "name": "ipython",
    "version": 3
   },
   "file_extension": ".py",
   "mimetype": "text/x-python",
   "name": "python",
   "nbconvert_exporter": "python",
   "pygments_lexer": "ipython3",
   "version": "3.8.8"
  }
 },
 "nbformat": 4,
 "nbformat_minor": 4
}
