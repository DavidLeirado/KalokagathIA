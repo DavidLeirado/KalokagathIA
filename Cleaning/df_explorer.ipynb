{
 "cells": [
  {
   "cell_type": "code",
   "execution_count": 11,
   "metadata": {},
   "outputs": [],
   "source": [
    "import pandas as pd"
   ]
  },
  {
   "cell_type": "code",
   "execution_count": 19,
   "metadata": {},
   "outputs": [
    {
     "name": "stdout",
     "output_type": "stream",
     "text": [
      "Aristotle,De iuventute et senectute, De vita et morte,2,Τριῶν δὲ μερῶν ὄντων εἰς ἃ διαιρεῖται πάντα τὰ τέλεια τῶν ζῴων. ἑνὸς μὲν ᾗ δέχεται τὴν τροφήν. ἑνὸς δ’ ᾗ τὸ περίττωμα προΐεται. τρίτου δὲ τοῦ μέσου τούτων. τοῦτο ἐν μὲν τοῖς μεγίστοις τῶν ζῴων καλεῖται στῆθος. ἐν δὲ τοῖς ἄλλοις τὸ ἀνάλογον. διήρθρωται δὲ μᾶλλον ἑτέροις ἑτέρων.. Ὅσα δ’ αὐτῶν ἐστὶ πορευτικά. πρόσκειται καὶ μόρια τὰ πρὸς ταύτην τὴν ὑπηρεσίαν. οἷς τὸ πᾶν οἴσουσι κύτος. σκέλη τε καὶ πόδες καὶ τὰ τούτοις ἔχοντα τὴν αὐτὴν δύναμιν.. Ἀλλ’ ἥ γε τῆς θρεπτικῆς ἀρχὴ ψυχῆς ἐν τῷ μέσῳ τῶν τριῶν μορίων καὶ κατὰ τὴν αἴσθησιν οὖσα φαίνεται καὶ κατὰ τὸν λόγον· πολλὰ γὰρ τῶν ζῴων ἀφαιρουμένου ἑκατέρου τῶν μορίων. τῆς τε καλουμένης κεφαλῆς καὶ τοῦ δεκτικοῦ τῆς τροφῆς. ζῇ μεθ’ οὗπερ ἂν ᾖ τὸ μέσον.. Δῆλον δ’ ἐπὶ τῶν ἐντόμων. οἷον σφηκῶν τε καὶ μελιττῶν. τοῦτο συμβαῖνον· καὶ τῶν μὴ ἐντόμων δὲ πολλὰ διαιρούμενα δύναται ζῆν διὰ τὸ θρεπτικόν.. Τὸ δὲ τοιοῦτον μόριον ἐνεργείᾳ μὲν ἔχει ἕν. δυνάμει δὲ πλείω· τὸν αὐτὸν γὰρ συνέστηκε τοῖς φυτοῖς τρόπον· καὶ γὰρ τὰ φυτὰ διαιρούμενα ζῇ χωρίς. καὶ γίνεται πολλὰ ἀπὸ μιᾶς ἀρχῆς δένδρα.. Δι’ ἢν δ’ αἰτίαν τὰ μὲν οὐ δύναται διαιρούμενα ζῆν. τὰ δ’ ἀποφυτεύεται τῶν φυτῶν. ἕτερος ἔσται λόγος.. Ἀλλ’ ὁμοίως ἔχει κατά γε τοῦτο τά τε φυτὰ καὶ τὸ τῶν ἐντόμων γένος.. Ἀνάγκη δὲ καὶ τὴν θρεπτικὴν ψυχὴν ἐνεργείᾳ μὲν ἐν τοῖς ἔχουσιν εἶναι μίαν. δυνάμει δὲ πλείους. Ὁμοίως δὲ καὶ τὴν αἰσθητικὴν ἀρχήν· φαίνεται γὰρ ἔχοντα αἴσθησιν τὰ διαιρούμενα αὐτῶν.. Ἀλλὰ πρὸς τὸ σώζεσθαι τὴν φύσιν. τὰ μὲν φυτὰ δύναται. ταῦτα δ’ οὐ δύναται διὰ τὸ μὴ ἔχειν ὄργανα πρὸς σωτηρίαν. ἐνδεᾶ τ’ εἶναι τὰ μὲν τοῦ ληψομένου τὰ δὲ τοῦ δεξομένου τὴν τροφήν. τὰ δ’ ἄλλων τε καὶ τούτων ἀμφοτέρων.. Ἐοίκασι γὰρ τὰ τοιαῦτα τῶν ζῴων πολλοῖς ζῴοις συμπεφυκόσιν· τὰ δ’ ἄριστα συνεστηκότα τοῦτ’ οὐ πάσχει τῶν ζῴων διὰ τὸ εἶναι τὴν φύσιν αὐτῶν ὡς ἐνδέχεται μάλιστα μίαν.. Διὸ καὶ μικρὰν αἴσθησιν ἔνια ποιεῖ διαιρούμενα τῶν μορίων. ὅτι ἔχει τι ψυχικὸν πάθος· χωριζομένων γὰρ τῶν σπλάγχνων ποιεῖται κίνησιν. οἷον καὶ αἱ χελῶναι τῆς καρδίας ἀφῃρημένης..\n"
     ]
    }
   ],
   "source": [
    "with open('./Training/append.csv', 'r', encoding ='utf-8') as f:\n",
    "    text = f.read()\n",
    "    lines = text.split('\\n')\n",
    "    print(lines[602])"
   ]
  },
  {
   "cell_type": "code",
   "execution_count": 20,
   "metadata": {
    "scrolled": true
   },
   "outputs": [],
   "source": [
    "df = pd.read_csv('./Training/textos_griegos.csv')"
   ]
  },
  {
   "cell_type": "code",
   "execution_count": 21,
   "metadata": {},
   "outputs": [
    {
     "data": {
      "text/html": [
       "<div>\n",
       "<style scoped>\n",
       "    .dataframe tbody tr th:only-of-type {\n",
       "        vertical-align: middle;\n",
       "    }\n",
       "\n",
       "    .dataframe tbody tr th {\n",
       "        vertical-align: top;\n",
       "    }\n",
       "\n",
       "    .dataframe thead th {\n",
       "        text-align: right;\n",
       "    }\n",
       "</style>\n",
       "<table border=\"1\" class=\"dataframe\">\n",
       "  <thead>\n",
       "    <tr style=\"text-align: right;\">\n",
       "      <th></th>\n",
       "      <th>Autor</th>\n",
       "      <th>Obra</th>\n",
       "      <th>Fragmento</th>\n",
       "      <th>Texto</th>\n",
       "    </tr>\n",
       "  </thead>\n",
       "  <tbody>\n",
       "    <tr>\n",
       "      <th>0</th>\n",
       "      <td>Colluthus</td>\n",
       "      <td>Rape of Helen</td>\n",
       "      <td>1</td>\n",
       "      <td>νύμφαι Τρωιάδες. ποταμοῦ Ξάνθοιο γενέθλη. αἳ π...</td>\n",
       "    </tr>\n",
       "    <tr>\n",
       "      <th>1</th>\n",
       "      <td>Xenophon</td>\n",
       "      <td>Memorabilia</td>\n",
       "      <td>1.1.1</td>\n",
       "      <td>πολλάκις ἐθαύμασα τίσι ποτὲ λόγοις Ἀθηναίους ἔ...</td>\n",
       "    </tr>\n",
       "    <tr>\n",
       "      <th>2</th>\n",
       "      <td>Xenophon</td>\n",
       "      <td>Memorabilia</td>\n",
       "      <td>1.1.2</td>\n",
       "      <td>πρῶτον μὲν οὖν. ὡς οὐκ ἐνόμιζεν οὓς ἡ πόλις νο...</td>\n",
       "    </tr>\n",
       "    <tr>\n",
       "      <th>3</th>\n",
       "      <td>Xenophon</td>\n",
       "      <td>Memorabilia</td>\n",
       "      <td>1.1.3</td>\n",
       "      <td>ὁ δ᾽ οὐδὲν καινότερον εἰσέφερε τῶν ἄλλων. ὅσοι...</td>\n",
       "    </tr>\n",
       "    <tr>\n",
       "      <th>4</th>\n",
       "      <td>Xenophon</td>\n",
       "      <td>Memorabilia</td>\n",
       "      <td>1.1.4</td>\n",
       "      <td>ἀλλ᾽ οἱ μὲν πλεῖστοί φασιν ὑπό τε τῶν ὀρνίθων ...</td>\n",
       "    </tr>\n",
       "  </tbody>\n",
       "</table>\n",
       "</div>"
      ],
      "text/plain": [
       "       Autor           Obra Fragmento  \\\n",
       "0  Colluthus  Rape of Helen         1   \n",
       "1   Xenophon    Memorabilia     1.1.1   \n",
       "2   Xenophon    Memorabilia     1.1.2   \n",
       "3   Xenophon    Memorabilia     1.1.3   \n",
       "4   Xenophon    Memorabilia     1.1.4   \n",
       "\n",
       "                                               Texto  \n",
       "0  νύμφαι Τρωιάδες. ποταμοῦ Ξάνθοιο γενέθλη. αἳ π...  \n",
       "1  πολλάκις ἐθαύμασα τίσι ποτὲ λόγοις Ἀθηναίους ἔ...  \n",
       "2  πρῶτον μὲν οὖν. ὡς οὐκ ἐνόμιζεν οὓς ἡ πόλις νο...  \n",
       "3  ὁ δ᾽ οὐδὲν καινότερον εἰσέφερε τῶν ἄλλων. ὅσοι...  \n",
       "4  ἀλλ᾽ οἱ μὲν πλεῖστοί φασιν ὑπό τε τῶν ὀρνίθων ...  "
      ]
     },
     "execution_count": 21,
     "metadata": {},
     "output_type": "execute_result"
    }
   ],
   "source": [
    "df.head()"
   ]
  },
  {
   "cell_type": "code",
   "execution_count": 22,
   "metadata": {},
   "outputs": [
    {
     "data": {
      "text/html": [
       "<div>\n",
       "<style scoped>\n",
       "    .dataframe tbody tr th:only-of-type {\n",
       "        vertical-align: middle;\n",
       "    }\n",
       "\n",
       "    .dataframe tbody tr th {\n",
       "        vertical-align: top;\n",
       "    }\n",
       "\n",
       "    .dataframe thead th {\n",
       "        text-align: right;\n",
       "    }\n",
       "</style>\n",
       "<table border=\"1\" class=\"dataframe\">\n",
       "  <thead>\n",
       "    <tr style=\"text-align: right;\">\n",
       "      <th></th>\n",
       "      <th>Autor</th>\n",
       "      <th>Obra</th>\n",
       "      <th>Fragmento</th>\n",
       "      <th>Texto</th>\n",
       "    </tr>\n",
       "  </thead>\n",
       "  <tbody>\n",
       "    <tr>\n",
       "      <th>count</th>\n",
       "      <td>164368</td>\n",
       "      <td>172086</td>\n",
       "      <td>172086</td>\n",
       "      <td>171870</td>\n",
       "    </tr>\n",
       "    <tr>\n",
       "      <th>unique</th>\n",
       "      <td>62</td>\n",
       "      <td>521</td>\n",
       "      <td>52841</td>\n",
       "      <td>167854</td>\n",
       "    </tr>\n",
       "    <tr>\n",
       "      <th>top</th>\n",
       "      <td>Homer</td>\n",
       "      <td>Histories</td>\n",
       "      <td>1</td>\n",
       "      <td>πότερον ὅτι δι᾽ ἐμέ τις εἰς ἀγῶνα πώποτε κατασ...</td>\n",
       "    </tr>\n",
       "    <tr>\n",
       "      <th>freq</th>\n",
       "      <td>25314</td>\n",
       "      <td>20050</td>\n",
       "      <td>1275</td>\n",
       "      <td>33</td>\n",
       "    </tr>\n",
       "  </tbody>\n",
       "</table>\n",
       "</div>"
      ],
      "text/plain": [
       "         Autor       Obra Fragmento  \\\n",
       "count   164368     172086    172086   \n",
       "unique      62        521     52841   \n",
       "top      Homer  Histories         1   \n",
       "freq     25314      20050      1275   \n",
       "\n",
       "                                                    Texto  \n",
       "count                                              171870  \n",
       "unique                                             167854  \n",
       "top     πότερον ὅτι δι᾽ ἐμέ τις εἰς ἀγῶνα πώποτε κατασ...  \n",
       "freq                                                   33  "
      ]
     },
     "execution_count": 22,
     "metadata": {},
     "output_type": "execute_result"
    }
   ],
   "source": [
    "df.describe()"
   ]
  },
  {
   "cell_type": "code",
   "execution_count": 23,
   "metadata": {},
   "outputs": [],
   "source": [
    "df.dropna(inplace=True)"
   ]
  },
  {
   "cell_type": "code",
   "execution_count": 24,
   "metadata": {},
   "outputs": [],
   "source": [
    "def sustituirchars(linea):\n",
    "    return linea.replace('.',',').replace(',,','.')\n",
    "\n",
    "df.Texto=df.Texto.apply(lambda x: sustituirchars(x))"
   ]
  },
  {
   "cell_type": "code",
   "execution_count": 26,
   "metadata": {},
   "outputs": [
    {
     "data": {
      "text/plain": [
       "Homer                                        25314\n",
       "Euripides                                    17795\n",
       "Aristophanes                                 13579\n",
       "Polybius                                     12141\n",
       "Sophocles                                     9260\n",
       "Procopius                                     8258\n",
       "Cassius Dio Cocceianus                        7128\n",
       "Aeschylus                                     6731\n",
       "Apollonius Rhodius                            5384\n",
       "Demosthenes                                   4544\n",
       "Herodotus                                     4329\n",
       "Dionysius of Halicarnassus                    4258\n",
       "Thucydides                                    3577\n",
       "Eusebius of Caesarea                          3524\n",
       "Pausanias                                     3170\n",
       "Aristotle                                     3041\n",
       "Hippocrates                                   2951\n",
       "Theophrastus                                  2670\n",
       "Dio Chrysostom                                2570\n",
       "Plutarch                                      2329\n",
       "Plato                                         2289\n",
       "Xenophon                                      2081\n",
       "Lysias                                        1884\n",
       "Lucian                                        1779\n",
       "Arrian                                        1765\n",
       "Strabo                                        1579\n",
       "Appian                                        1329\n",
       "Athenaeus                                     1328\n",
       "Aelian                                         802\n",
       "Isocrates                                      659\n",
       "Aeschines                                      642\n",
       "Marcus Aurelius                                560\n",
       "Longus                                         537\n",
       "Basil, Saint, Bishop of Caesarea               463\n",
       "Apollodorus                                    386\n",
       "Aeneas Tacticus                                375\n",
       "Julian the Emperor                             369\n",
       "John, of Damascus (attributed author)          364\n",
       "Philostratus the Athenian                      348\n",
       "Demetrius of Phaleron (attributed author)      304\n",
       "Andocides                                      269\n",
       "Clement of Alexandria                          240\n",
       "Hyperides                                      202\n",
       "Barnabas                                       194\n",
       "Antiphon                                       155\n",
       "Lycurgus                                       150\n",
       "Dinarchus                                      138\n",
       "Asclepiodotus                                   73\n",
       "Callimachus                                     61\n",
       "Philostratus The Athenian                       58\n",
       "Pseudo-Xenophon                                 53\n",
       "Nonnus of Panopolis                             48\n",
       "Longinus                                        44\n",
       "Theocritus                                      30\n",
       "Quintus Smyrnaeus                               14\n",
       "Callistratus                                    14\n",
       "Oppian                                           5\n",
       "Moschus                                          3\n",
       "Bion of Phlossa                                  2\n",
       "Tryphiodorus                                     1\n",
       "Name: Autor, dtype: int64"
      ]
     },
     "execution_count": 26,
     "metadata": {},
     "output_type": "execute_result"
    }
   ],
   "source": [
    "df.Autor.value_counts().head(60)\n"
   ]
  },
  {
   "cell_type": "code",
   "execution_count": 8,
   "metadata": {},
   "outputs": [
    {
     "name": "stdout",
     "output_type": "stream",
     "text": [
      "Colluthus\n",
      "Xenophon\n",
      "Pseudo-Xenophon\n",
      "Hyperides\n",
      "Bion of Phlossa\n",
      "Moschus\n",
      "Lycurgus\n",
      "Eusebius of Caesarea\n",
      "Demosthenes\n",
      "Homer\n",
      "Sophocles\n",
      "Isocrates\n",
      "Aristophanes\n",
      "Theophrastus\n",
      "Julian the Emperor\n",
      "Herodotus\n",
      "Strabo\n",
      "Aratus Solensis\n",
      "Oppian\n",
      "Aeschines\n",
      "Pausanias\n",
      "Andocides\n",
      "Antiphon\n",
      "Dinarchus\n",
      "Tryphiodorus\n",
      "Arrian\n",
      "Callimachus\n",
      "Lysias\n",
      "Apollonius Rhodius\n",
      "Thucydides\n",
      "Philostratus the Athenian\n",
      "Aristotle\n",
      "John, of Damascus (attributed author)\n",
      "Aeschylus\n",
      "Theocritus\n",
      "Apollodorus\n",
      "Plutarch\n",
      "Euripides\n",
      "Polybius\n",
      "Athenaeus\n",
      "Aelian\n",
      "Dionysius of Halicarnassus\n",
      "Procopius\n",
      "Appian\n",
      "Hippocrates\n",
      "Plato\n",
      "Basil, Saint, Bishop of Caesarea\n",
      "Aeneas Tacticus\n",
      "Asclepiodotus\n",
      "Quintus Smyrnaeus\n",
      "Clement of Alexandria\n",
      "Nonnus of Panopolis\n",
      "Cassius Dio Cocceianus\n",
      "Longinus\n",
      "Marcus Aurelius\n",
      "Longus\n",
      "Demetrius of Phaleron (attributed author)\n",
      "Barnabas\n",
      "Dio Chrysostom\n",
      "Lucian\n",
      "Callistratus\n"
     ]
    }
   ],
   "source": [
    "for i in df.Autor.unique():\n",
    "    print(i)"
   ]
  },
  {
   "cell_type": "code",
   "execution_count": 27,
   "metadata": {},
   "outputs": [
    {
     "name": "stdout",
     "output_type": "stream",
     "text": [
      "Cratylus\n",
      "Theaetetus\n",
      "Sophist\n",
      "Statesman\n",
      "Parmenides\n",
      "Philebus\n",
      "Symposium\n",
      "Phaedrus\n",
      "Alcibiades 1\n",
      "Alcibiades 2\n",
      "Hipparchus\n",
      "Lovers\n",
      "Theages\n",
      "Charmides\n",
      "Laches\n",
      "Lysis\n",
      "Euthydemus\n",
      "Protagoras\n",
      "Gorgias\n",
      "Meno\n",
      "Hippias Major\n",
      "Hippias Minor\n",
      "Ion\n",
      "Menexenus\n",
      "Cleitophon\n",
      "Republic1\n",
      "Republic2\n",
      "Republic3\n",
      "Republic4\n",
      "Republic5\n",
      "Republic6\n",
      "Republic7\n",
      "Republic8\n",
      "Republic9\n",
      "Republic10\n",
      "Timaeus\n",
      "Critias\n",
      "Minos\n",
      "Laws\n",
      "Epinomis\n",
      "Definitiones1\n",
      "Euthyphro\n",
      "Apology\n",
      "Crito\n",
      "Phaedo\n"
     ]
    }
   ],
   "source": [
    "for i in df[df['Autor'] == 'Plato'].Obra.unique():\n",
    "    print(i)"
   ]
  },
  {
   "cell_type": "code",
   "execution_count": 28,
   "metadata": {
    "scrolled": true
   },
   "outputs": [
    {
     "name": "stdout",
     "output_type": "stream",
     "text": [
      "Taking of Ilios\n"
     ]
    }
   ],
   "source": [
    "for i in df[df['Autor'] == 'Tryphiodorus'].Obra.unique():\n",
    "    print(i)"
   ]
  },
  {
   "cell_type": "code",
   "execution_count": 29,
   "metadata": {},
   "outputs": [
    {
     "name": "stdout",
     "output_type": "stream",
     "text": [
      "Rape of Helen\n"
     ]
    }
   ],
   "source": [
    "for i in df[df['Autor'] == 'Colluthus'].Obra.unique():\n",
    "    print(i)"
   ]
  },
  {
   "cell_type": "code",
   "execution_count": 30,
   "metadata": {},
   "outputs": [
    {
     "name": "stdout",
     "output_type": "stream",
     "text": [
      "Phaenomena\n"
     ]
    }
   ],
   "source": [
    "for i in df[df['Autor'] == 'Aratus Solensis'].Obra.unique():\n",
    "    print(i)"
   ]
  },
  {
   "cell_type": "code",
   "execution_count": 31,
   "metadata": {},
   "outputs": [
    {
     "name": "stdout",
     "output_type": "stream",
     "text": [
      "Epitaphius Adonis\n",
      "Epithalamium Achillis et Deidameiae\n"
     ]
    }
   ],
   "source": [
    "for i in df[df['Autor'] == 'Bion of Phlossa'].Obra.unique():\n",
    "    print(i)"
   ]
  },
  {
   "cell_type": "code",
   "execution_count": 32,
   "metadata": {},
   "outputs": [
    {
     "name": "stdout",
     "output_type": "stream",
     "text": [
      "Eros Drapeta\n",
      "Europa\n",
      "Megara\n"
     ]
    }
   ],
   "source": [
    "for i in df[df['Autor'] == 'Moschus'].Obra.unique():\n",
    "    print(i)"
   ]
  },
  {
   "cell_type": "code",
   "execution_count": 33,
   "metadata": {
    "scrolled": true
   },
   "outputs": [
    {
     "name": "stdout",
     "output_type": "stream",
     "text": [
      "Halieutica\n"
     ]
    }
   ],
   "source": [
    "for i in df[df['Autor'] == 'Oppian'].Obra.unique():\n",
    "    print(i)"
   ]
  },
  {
   "cell_type": "code",
   "execution_count": 34,
   "metadata": {},
   "outputs": [
    {
     "name": "stdout",
     "output_type": "stream",
     "text": [
      "Descriptiones\n"
     ]
    }
   ],
   "source": [
    "for i in df[df['Autor'] == 'Callistratus'].Obra.unique():\n",
    "    print(i)"
   ]
  },
  {
   "cell_type": "code",
   "execution_count": 35,
   "metadata": {},
   "outputs": [
    {
     "name": "stdout",
     "output_type": "stream",
     "text": [
      "Fall of Troy\n"
     ]
    }
   ],
   "source": [
    "for i in df[df['Autor'] == 'Quintus Smyrnaeus'].Obra.unique():\n",
    "    print(i)"
   ]
  },
  {
   "cell_type": "code",
   "execution_count": 36,
   "metadata": {
    "scrolled": true
   },
   "outputs": [
    {
     "name": "stdout",
     "output_type": "stream",
     "text": [
      "Idylls\n"
     ]
    }
   ],
   "source": [
    "for i in df[df['Autor'] == 'Theocritus'].Obra.unique():\n",
    "    print(i)"
   ]
  },
  {
   "cell_type": "code",
   "execution_count": 37,
   "metadata": {
    "scrolled": true
   },
   "outputs": [
    {
     "name": "stdout",
     "output_type": "stream",
     "text": [
      "De Sublimitate\n"
     ]
    }
   ],
   "source": [
    "for i in df[df['Autor'] == 'Longinus'].Obra.unique():\n",
    "    print(i)"
   ]
  },
  {
   "cell_type": "code",
   "execution_count": 38,
   "metadata": {
    "scrolled": true
   },
   "outputs": [
    {
     "name": "stdout",
     "output_type": "stream",
     "text": [
      "Dionysiaca\n"
     ]
    }
   ],
   "source": [
    "for i in df[df['Autor'] == 'Nonnus of Panopolis'].Obra.unique():\n",
    "    print(i)"
   ]
  },
  {
   "cell_type": "code",
   "execution_count": 39,
   "metadata": {},
   "outputs": [
    {
     "name": "stdout",
     "output_type": "stream",
     "text": [
      "Constitution of the Athenians\n"
     ]
    }
   ],
   "source": [
    "for i in df[df['Autor'] == 'Pseudo-Xenophon'].Obra.unique():\n",
    "    print(i)"
   ]
  },
  {
   "cell_type": "code",
   "execution_count": 40,
   "metadata": {},
   "outputs": [
    {
     "name": "stdout",
     "output_type": "stream",
     "text": [
      "Protrepticus\n",
      "Quis Dis Salvetur\n",
      "Exhortation to Endurance, or to the Newly Baptized\n",
      "Excerpta ex Theodoto\n",
      "Paedagogus\n",
      "Stromata Books 7-8\n",
      "Eclogae propheticae\n"
     ]
    }
   ],
   "source": [
    "for i in df[df['Autor'] == 'Clement of Alexandria'].Obra.unique():\n",
    "    print(i)"
   ]
  },
  {
   "cell_type": "code",
   "execution_count": 41,
   "metadata": {},
   "outputs": [
    {
     "name": "stdout",
     "output_type": "stream",
     "text": [
      "Epigrams\n"
     ]
    }
   ],
   "source": [
    "for i in df[df['Autor'] == 'Callimachus'].Obra.unique():\n",
    "    print(i)"
   ]
  },
  {
   "cell_type": "code",
   "execution_count": 42,
   "metadata": {
    "scrolled": true
   },
   "outputs": [
    {
     "name": "stdout",
     "output_type": "stream",
     "text": [
      "Tactica\n"
     ]
    }
   ],
   "source": [
    "for i in df[df['Autor'] == 'Asclepiodotus'].Obra.unique():\n",
    "    print(i)"
   ]
  },
  {
   "cell_type": "code",
   "execution_count": 43,
   "metadata": {
    "scrolled": true
   },
   "outputs": [
    {
     "name": "stdout",
     "output_type": "stream",
     "text": [
      "Against Demosthenes\n",
      "Against Aristogiton\n",
      "Against Philocles\n"
     ]
    }
   ],
   "source": [
    "for i in df[df['Autor'] == 'Dinarchus'].Obra.unique():\n",
    "    print(i)"
   ]
  },
  {
   "cell_type": "code",
   "execution_count": 44,
   "metadata": {
    "scrolled": true
   },
   "outputs": [
    {
     "name": "stdout",
     "output_type": "stream",
     "text": [
      "Against Leocrates\n"
     ]
    }
   ],
   "source": [
    "for i in df[df['Autor'] == 'Lycurgus'].Obra.unique():\n",
    "    print(i)"
   ]
  },
  {
   "cell_type": "code",
   "execution_count": 45,
   "metadata": {
    "scrolled": true
   },
   "outputs": [
    {
     "name": "stdout",
     "output_type": "stream",
     "text": [
      "Against the Stepmother for Poisoning\n",
      "First Tetralogy\n",
      "Second Tetralogy\n",
      "Third Tetralogy\n",
      "On the murder of Herodes\n",
      "On the Choreutes\n"
     ]
    }
   ],
   "source": [
    "for i in df[df['Autor'] == 'Antiphon'].Obra.unique():\n",
    "    print(i)"
   ]
  },
  {
   "cell_type": "code",
   "execution_count": 46,
   "metadata": {},
   "outputs": [
    {
     "name": "stdout",
     "output_type": "stream",
     "text": [
      "De aere aquis et locis\n",
      "De morbis popularibus\n",
      "Praeceptiones\n",
      "De alimento\n",
      "De prisca medicina\n",
      "Prognosticon\n",
      "De diaeta in morbis acutis\n",
      "De diaeta acutorum (spurium)\n",
      "Epidemiarum\n",
      "De capitis vulneribus\n",
      "De officina medici\n",
      "De fracturis\n",
      "De articulis\n",
      "Vectiarius\n",
      "Aphorismi\n",
      "Iusiurandum\n",
      "Lex\n",
      "De humoribus\n",
      "Prorrheticon I\n",
      "Coa praesagia\n",
      "De arte\n",
      "De natura hominis\n",
      "De salubri diaeta\n",
      "De flatibus\n",
      "De liquidorum usu\n",
      "De morbis I\n",
      "De genitura\n",
      "De natura pueri\n",
      "De affectionibus\n",
      "De locis in homine\n",
      "De morbo sacro\n",
      "De ulceribus\n",
      "De haemorrhoidibus\n",
      "De fistulis\n",
      "De diaeta\n",
      "De affectionibus interioribus\n",
      "De natura muliebri\n",
      "De octimestri partu\n",
      "De muliebribus\n",
      "De virginum morbis\n",
      "De superfoetatione\n",
      "De exsectione foetus\n",
      "De anatomia\n",
      "De dentitione\n",
      "De glandulis\n",
      "De carnibus\n",
      "De corde\n",
      "De visu\n",
      "De natura ossium\n",
      "De medico\n",
      "De habitu decenti\n",
      "De crisibus\n",
      "De diebus criticis\n",
      "Epistulae. Decretum. Orationes\n"
     ]
    }
   ],
   "source": [
    "for i in df[df['Autor'] == 'Hippocrates'].Obra.unique():\n",
    "    print(i)"
   ]
  },
  {
   "cell_type": "code",
   "execution_count": 47,
   "metadata": {},
   "outputs": [
    {
     "name": "stdout",
     "output_type": "stream",
     "text": [
      "Barnabae Epistula\n"
     ]
    }
   ],
   "source": [
    "for i in df[df['Autor'] == 'Barnabas'].Obra.unique():\n",
    "    print(i)"
   ]
  },
  {
   "cell_type": "code",
   "execution_count": 48,
   "metadata": {},
   "outputs": [
    {
     "name": "stdout",
     "output_type": "stream",
     "text": [
      "In Defence of Lycophron\n",
      "Against Philippides\n",
      "Against Athenogenes\n",
      "In Defence of Euxenippus\n",
      "Against Demosthenes\n",
      "Funeral Oration\n"
     ]
    }
   ],
   "source": [
    "for i in df[df['Autor'] == 'Hyperides'].Obra.unique():\n",
    "    print(i)"
   ]
  },
  {
   "cell_type": "code",
   "execution_count": 49,
   "metadata": {},
   "outputs": [
    {
     "name": "stdout",
     "output_type": "stream",
     "text": [
      "On the Mysteries\n",
      "On his Return\n",
      "On the Peace\n",
      "Against Alcibiades\n"
     ]
    }
   ],
   "source": [
    "for i in df[df['Autor'] == 'Andocides'].Obra.unique():\n",
    "    print(i)"
   ]
  },
  {
   "cell_type": "code",
   "execution_count": 50,
   "metadata": {},
   "outputs": [
    {
     "name": "stdout",
     "output_type": "stream",
     "text": [
      "Libro de Elocutione\n"
     ]
    }
   ],
   "source": [
    "for i in df[df['Autor'] == 'Demetrius of Phaleron (attributed author)'].Obra.unique():\n",
    "    print(i)"
   ]
  },
  {
   "cell_type": "code",
   "execution_count": 51,
   "metadata": {},
   "outputs": [
    {
     "name": "stdout",
     "output_type": "stream",
     "text": [
      "Characters\n",
      "DeOdoribus\n",
      "DeSignisTempestatum\n",
      "EnquiryIntoPlants1\n",
      "EnquiryIntoPlants2\n",
      "EnquiryIntoPlants3\n",
      "EnquiryIntoPlants4\n",
      "EnquiryIntoPlants5\n",
      "EnquiryIntoPlants6\n",
      "EnquiryIntoPlants7\n",
      "EnquiryIntoPlants8\n",
      "EnquiryIntoPlants9\n",
      "OnTheCausesOfPlants\n",
      "DeSensuEtSensibilibus\n",
      "DeLapidibus\n",
      "OnFire\n",
      "Metaphysics\n",
      "DeVentis\n",
      "DeLasitudine\n",
      "DeVertigine\n",
      "DeSudore\n",
      "DeAnimiDefectione\n",
      "DeNervorumResolutione\n"
     ]
    }
   ],
   "source": [
    "for i in df[df['Autor'] == 'Theophrastus'].Obra.unique():\n",
    "    print(i)"
   ]
  },
  {
   "cell_type": "code",
   "execution_count": 52,
   "metadata": {},
   "outputs": [
    {
     "name": "stdout",
     "output_type": "stream",
     "text": [
      "Life of Apollonius of Tyana\n"
     ]
    }
   ],
   "source": [
    "for i in df[df['Autor'] == 'Philostratus the Athenian'].Obra.unique():\n",
    "    print(i)"
   ]
  },
  {
   "cell_type": "code",
   "execution_count": 53,
   "metadata": {},
   "outputs": [
    {
     "name": "stdout",
     "output_type": "stream",
     "text": [
      "Vita Barlaam et Joasaph\n"
     ]
    }
   ],
   "source": [
    "for i in df[df['Autor'] == 'John, of Damascus (attributed author)'].Obra.unique():\n",
    "    print(i)"
   ]
  },
  {
   "cell_type": "code",
   "execution_count": 54,
   "metadata": {},
   "outputs": [
    {
     "name": "stdout",
     "output_type": "stream",
     "text": [
      "Panegyric in Honor of the Emperor ConstantinusOration I\n",
      "Hymn to the Mother of the GodsOration V\n",
      "To the Uneducated CynicsOration VI\n"
     ]
    }
   ],
   "source": [
    "for i in df[df['Autor'] == 'Julian the Emperor'].Obra.unique():\n",
    "    print(i)"
   ]
  },
  {
   "cell_type": "code",
   "execution_count": 55,
   "metadata": {},
   "outputs": [
    {
     "name": "stdout",
     "output_type": "stream",
     "text": [
      "Poliorcetica\n"
     ]
    }
   ],
   "source": [
    "for i in df[df['Autor'] == 'Aeneas Tacticus'].Obra.unique():\n",
    "    print(i)"
   ]
  },
  {
   "cell_type": "code",
   "execution_count": 56,
   "metadata": {},
   "outputs": [
    {
     "name": "stdout",
     "output_type": "stream",
     "text": [
      "Bis accusatus sive tribunalia\n",
      "Navigium\n",
      "Hermotimus\n",
      "De luctu\n",
      "Hippias\n",
      "Demonax\n",
      "Toxaris vel amicitia\n",
      "Cataplus\n",
      "Pro lapsu inter salutandum\n",
      "Somnum Sive Vita Luciani\n",
      "De Parasito Sive Artem Esse Parassiticam\n",
      "Philopseudes Sive Incredulus\n",
      "Dearum Judicium\n",
      "De Mercede Conductis Potentium Familiaribus\n",
      "Menippus Sive Necyomantia\n",
      "Rhetorum Praeceptor\n",
      "Alexander\n",
      "Imagines\n",
      "De Syria Dea\n",
      "De Morte Peregrini\n",
      "Fugitivi\n",
      "De Saltatione\n",
      "Eunuchus\n",
      "De Astrologia\n",
      "Pseudologista\n",
      "Deorum Concilium\n",
      "Tyrannicida\n",
      "Abdicatus\n",
      "Prometheus\n",
      "Icaromenippus\n",
      "Timon\n",
      "Charon Sive Contemplantes\n",
      "Vitarum Auctio\n",
      "Revivescentes Sive Piscator\n",
      "De Sacrificiis\n",
      "Adversus Indoctum Et Libros Multos Ementem\n",
      "Phalaris\n",
      "Bacchus\n",
      "Hercules\n",
      "Electrum\n",
      "Muscae Encomium\n",
      "Nigrinus\n",
      "De Domo\n",
      "Patriae Encomium\n",
      "Macrobii\n",
      "Verae Historiae\n",
      "Calumniae Non Temere Credendum\n",
      "Lis Consonantium\n",
      "Convivium\n",
      "Juppiter Confutatus\n",
      "Juppiter Tragoedus\n",
      "Gallus\n"
     ]
    }
   ],
   "source": [
    "for i in df[df['Autor'] == 'Lucian'].Obra.unique():\n",
    "    print(i)"
   ]
  },
  {
   "cell_type": "code",
   "execution_count": 57,
   "metadata": {},
   "outputs": [
    {
     "name": "stdout",
     "output_type": "stream",
     "text": [
      "Library\n",
      "Epitome\n"
     ]
    }
   ],
   "source": [
    "for i in df[df['Autor'] == 'Apollodorus'].Obra.unique():\n",
    "    print(i)"
   ]
  },
  {
   "cell_type": "code",
   "execution_count": 58,
   "metadata": {},
   "outputs": [
    {
     "name": "stdout",
     "output_type": "stream",
     "text": [
      "De legendis gentilium libris\n",
      "Epistulae\n"
     ]
    }
   ],
   "source": [
    "for i in df[df['Autor'] == 'Basil, Saint, Bishop of Caesarea'].Obra.unique():\n",
    "    print(i)"
   ]
  },
  {
   "cell_type": "code",
   "execution_count": 59,
   "metadata": {},
   "outputs": [
    {
     "name": "stdout",
     "output_type": "stream",
     "text": [
      "Daphnis &amp; Chloe\n"
     ]
    }
   ],
   "source": [
    "for i in df[df['Autor'] == 'Longus'].Obra.unique():\n",
    "    print(i)"
   ]
  },
  {
   "cell_type": "code",
   "execution_count": 60,
   "metadata": {},
   "outputs": [
    {
     "name": "stdout",
     "output_type": "stream",
     "text": [
      "M. Antonius Imperator Ad Se Ipsum\n"
     ]
    }
   ],
   "source": [
    "for i in df[df['Autor'] == 'Marcus Aurelius'].Obra.unique():\n",
    "    print(i)"
   ]
  },
  {
   "cell_type": "code",
   "execution_count": 61,
   "metadata": {},
   "outputs": [
    {
     "name": "stdout",
     "output_type": "stream",
     "text": [
      "To Demonicus\n",
      "To Nicocles\n",
      "Nicocles or the Cyprians\n",
      "Panegyricus\n",
      "To Philip\n",
      "Archidamus\n",
      "Areopagiticus\n",
      "On the Peace\n",
      "Evagoras\n",
      "Helen\n",
      "Busiris\n",
      "Panathenaicus\n",
      "Against the Sophists\n",
      "Plataicus\n",
      "Antidosis\n",
      "On the team of horses\n",
      "Trapeziticus\n",
      "Against Callimachus\n",
      "Aegineticus\n",
      "Against Lochites\n",
      "Against Euthynus\n",
      "To Dyonisius\n",
      "To The Children Of Jason\n",
      "To Archidamus\n",
      "To the Rulers of the Mytilenaeans\n",
      "To Timotheus\n",
      "To Alexander\n",
      "To Antipater\n",
      "Concerning the team of Horses\n"
     ]
    }
   ],
   "source": [
    "for i in df[df['Autor'] == 'Isocrates'].Obra.unique():\n",
    "    print(i)"
   ]
  },
  {
   "cell_type": "code",
   "execution_count": 62,
   "metadata": {},
   "outputs": [
    {
     "name": "stdout",
     "output_type": "stream",
     "text": [
      "Against Timarchus\n",
      "On the Embassy\n",
      "Against Ctesiphon\n"
     ]
    }
   ],
   "source": [
    "for i in df[df['Autor'] == 'Aeschines'].Obra.unique():\n",
    "    print(i)"
   ]
  },
  {
   "cell_type": "code",
   "execution_count": 63,
   "metadata": {},
   "outputs": [
    {
     "name": "stdout",
     "output_type": "stream",
     "text": [
      "Civil Wars\n",
      "Kings\n",
      "Italy\n",
      "Samnite History\n",
      "Gallic History\n",
      "Sicily and the Other Islands\n",
      "Wars in Spain\n",
      "Hannibalic War\n",
      "Punic Wars\n",
      "Numidian Affairs\n",
      "Macedonian Affairs\n",
      "Illyrian Wars\n",
      "Syrian Wars\n",
      "Mithriadic Wars\n"
     ]
    }
   ],
   "source": [
    "for i in df[df['Autor'] == 'Appian'].Obra.unique():\n",
    "    print(i)"
   ]
  },
  {
   "cell_type": "code",
   "execution_count": 64,
   "metadata": {},
   "outputs": [
    {
     "name": "stdout",
     "output_type": "stream",
     "text": [
      "De Natura Animalium\n"
     ]
    }
   ],
   "source": [
    "for i in df[df['Autor'] == 'Aelian'].Obra.unique():\n",
    "    print(i)"
   ]
  },
  {
   "cell_type": "code",
   "execution_count": 65,
   "metadata": {},
   "outputs": [
    {
     "name": "stdout",
     "output_type": "stream",
     "text": [
      "Deipnosophistae\n"
     ]
    }
   ],
   "source": [
    "for i in df[df['Autor'] == 'Athenaeus'].Obra.unique():\n",
    "    print(i)"
   ]
  },
  {
   "cell_type": "code",
   "execution_count": 66,
   "metadata": {},
   "outputs": [
    {
     "name": "stdout",
     "output_type": "stream",
     "text": [
      "Geography\n"
     ]
    }
   ],
   "source": [
    "for i in df[df['Autor'] == 'Strabo'].Obra.unique():\n",
    "    print(i)"
   ]
  },
  {
   "cell_type": "code",
   "execution_count": 67,
   "metadata": {},
   "outputs": [
    {
     "name": "stdout",
     "output_type": "stream",
     "text": [
      "Anabasis\n",
      "Periplus Ponti Euxini\n",
      "Tactica\n"
     ]
    }
   ],
   "source": [
    "for i in df[df['Autor'] == 'Arrian'].Obra.unique():\n",
    "    print(i)"
   ]
  },
  {
   "cell_type": "code",
   "execution_count": 68,
   "metadata": {},
   "outputs": [
    {
     "name": "stdout",
     "output_type": "stream",
     "text": [
      "Historia ecclesiastica\n",
      "De Martyribus Palaestinae (Recensio Brevior)\n",
      "De Ecclesiastica Theologia\n",
      "De Theophania (Fragmenta)\n",
      "Onomasticon\n",
      "Vita Constantini1\n",
      "Vita Constantini2\n",
      "Vita Constantini3\n",
      "Vita Constantini4\n",
      "Oration of Constantine\n",
      "De Laudibus Constantini\n"
     ]
    }
   ],
   "source": [
    "for i in df[df['Autor'] == 'Eusebius of Caesarea'].Obra.unique():\n",
    "    print(i)"
   ]
  },
  {
   "cell_type": "code",
   "execution_count": 69,
   "metadata": {},
   "outputs": [
    {
     "name": "stdout",
     "output_type": "stream",
     "text": [
      "Rhetoric\n",
      "Eudemian Ethics\n",
      "AnaliticaPriora\n",
      "AnaliticaPriora2\n",
      "deAnima\n",
      "Res publica atheniensium\n",
      "deCaelo\n",
      "Categoriae\n",
      "deDivinationeperSomnus\n",
      "deGenerationeetCorruptione\n",
      "HistoriaAnimalum1\n",
      "HistoriaAnimalum2\n",
      "HistoriaAnimalum3\n",
      "HistoriaAnimalum4\n",
      "HistoriaAnimalum5\n",
      "HistoriaAnimalum6\n",
      "HistoriaAnimalum7\n",
      "HistoriaAnimalum8\n",
      "HistoriaAnimalum9\n",
      "HistoriaAnimalum10\n",
      "deAnimaliumIncessu\n",
      "deInsomniis\n",
      "deInterpretatione\n",
      "De iuventute et senectute. De vita et morte\n",
      "De longitudine et brevitate vitae\n",
      "De animalium motione\n",
      "MAgnaMoralia\n",
      "DeMemoriaEtReminiscentia\n",
      "Meteorologica\n",
      "DePartibusAnimalium\n",
      "Physica\n",
      "ArsPoetica\n",
      "DeRespiratione\n",
      "deSophisticisElenchi\n",
      "DeSomnoetVigilia\n",
      "DeSensuEtSensibilus\n",
      "DeSpiritu\n",
      "Topica\n"
     ]
    }
   ],
   "source": [
    "for i in df[df['Autor'] == 'Aristotle'].Obra.unique():\n",
    "    print(i)"
   ]
  },
  {
   "cell_type": "code",
   "execution_count": null,
   "metadata": {},
   "outputs": [],
   "source": []
  }
 ],
 "metadata": {
  "kernelspec": {
   "display_name": "Python 3",
   "language": "python",
   "name": "python3"
  },
  "language_info": {
   "codemirror_mode": {
    "name": "ipython",
    "version": 2
   },
   "file_extension": ".py",
   "mimetype": "text/x-python",
   "name": "python",
   "nbconvert_exporter": "python",
   "pygments_lexer": "ipython2",
   "version": "2.7.16"
  }
 },
 "nbformat": 4,
 "nbformat_minor": 5
}
