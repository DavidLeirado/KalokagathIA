{
 "cells": [
  {
   "cell_type": "markdown",
   "metadata": {},
   "source": [
    "# Cleaning script\n",
    "\n",
    "Este script carga el dataset completo, lo limpia y a partir de el construye el dataset de entrenamiento y validacion."
   ]
  },
  {
   "cell_type": "markdown",
   "metadata": {},
   "source": [
    "## Import libraries and data"
   ]
  },
  {
   "cell_type": "code",
   "execution_count": 1,
   "metadata": {},
   "outputs": [],
   "source": [
    "import pandas as pd\n",
    "import unicodedata\n",
    "import re\n",
    "from random import shuffle"
   ]
  },
  {
   "cell_type": "code",
   "execution_count": 2,
   "metadata": {},
   "outputs": [],
   "source": [
    "df = pd.read_csv(\"Textos_griegos.csv\")"
   ]
  },
  {
   "cell_type": "code",
   "execution_count": 3,
   "metadata": {},
   "outputs": [
    {
     "data": {
      "text/html": [
       "<div>\n",
       "<style scoped>\n",
       "    .dataframe tbody tr th:only-of-type {\n",
       "        vertical-align: middle;\n",
       "    }\n",
       "\n",
       "    .dataframe tbody tr th {\n",
       "        vertical-align: top;\n",
       "    }\n",
       "\n",
       "    .dataframe thead th {\n",
       "        text-align: right;\n",
       "    }\n",
       "</style>\n",
       "<table border=\"1\" class=\"dataframe\">\n",
       "  <thead>\n",
       "    <tr style=\"text-align: right;\">\n",
       "      <th></th>\n",
       "      <th>Autor</th>\n",
       "      <th>Obra</th>\n",
       "      <th>Fragmento</th>\n",
       "      <th>Texto</th>\n",
       "    </tr>\n",
       "  </thead>\n",
       "  <tbody>\n",
       "    <tr>\n",
       "      <th>0</th>\n",
       "      <td>Colluthus</td>\n",
       "      <td>Rape of Helen</td>\n",
       "      <td>1</td>\n",
       "      <td>νύμφαι Τρωιάδες. ποταμοῦ Ξάνθοιο γενέθλη. αἳ π...</td>\n",
       "    </tr>\n",
       "    <tr>\n",
       "      <th>1</th>\n",
       "      <td>Xenophon</td>\n",
       "      <td>Memorabilia</td>\n",
       "      <td>1.1.1</td>\n",
       "      <td>πολλάκις ἐθαύμασα τίσι ποτὲ λόγοις Ἀθηναίους ἔ...</td>\n",
       "    </tr>\n",
       "    <tr>\n",
       "      <th>2</th>\n",
       "      <td>Xenophon</td>\n",
       "      <td>Memorabilia</td>\n",
       "      <td>1.1.2</td>\n",
       "      <td>πρῶτον μὲν οὖν. ὡς οὐκ ἐνόμιζεν οὓς ἡ πόλις νο...</td>\n",
       "    </tr>\n",
       "    <tr>\n",
       "      <th>3</th>\n",
       "      <td>Xenophon</td>\n",
       "      <td>Memorabilia</td>\n",
       "      <td>1.1.3</td>\n",
       "      <td>ὁ δ᾽ οὐδὲν καινότερον εἰσέφερε τῶν ἄλλων. ὅσοι...</td>\n",
       "    </tr>\n",
       "    <tr>\n",
       "      <th>4</th>\n",
       "      <td>Xenophon</td>\n",
       "      <td>Memorabilia</td>\n",
       "      <td>1.1.4</td>\n",
       "      <td>ἀλλ᾽ οἱ μὲν πλεῖστοί φασιν ὑπό τε τῶν ὀρνίθων ...</td>\n",
       "    </tr>\n",
       "  </tbody>\n",
       "</table>\n",
       "</div>"
      ],
      "text/plain": [
       "       Autor           Obra Fragmento  \\\n",
       "0  Colluthus  Rape of Helen         1   \n",
       "1   Xenophon    Memorabilia     1.1.1   \n",
       "2   Xenophon    Memorabilia     1.1.2   \n",
       "3   Xenophon    Memorabilia     1.1.3   \n",
       "4   Xenophon    Memorabilia     1.1.4   \n",
       "\n",
       "                                               Texto  \n",
       "0  νύμφαι Τρωιάδες. ποταμοῦ Ξάνθοιο γενέθλη. αἳ π...  \n",
       "1  πολλάκις ἐθαύμασα τίσι ποτὲ λόγοις Ἀθηναίους ἔ...  \n",
       "2  πρῶτον μὲν οὖν. ὡς οὐκ ἐνόμιζεν οὓς ἡ πόλις νο...  \n",
       "3  ὁ δ᾽ οὐδὲν καινότερον εἰσέφερε τῶν ἄλλων. ὅσοι...  \n",
       "4  ἀλλ᾽ οἱ μὲν πλεῖστοί φασιν ὑπό τε τῶν ὀρνίθων ...  "
      ]
     },
     "execution_count": 3,
     "metadata": {},
     "output_type": "execute_result"
    }
   ],
   "source": [
    "df.head()"
   ]
  },
  {
   "cell_type": "markdown",
   "metadata": {},
   "source": [
    "## Basic cleaning"
   ]
  },
  {
   "cell_type": "code",
   "execution_count": 4,
   "metadata": {},
   "outputs": [],
   "source": [
    "df.dropna(inplace=True)"
   ]
  },
  {
   "cell_type": "code",
   "execution_count": 5,
   "metadata": {},
   "outputs": [],
   "source": [
    "autores_more_than = df.Autor.value_counts()[df.Autor.value_counts() > 10].index\n",
    "df = df.loc[df.Autor.isin(autores_more_than)]"
   ]
  },
  {
   "cell_type": "code",
   "execution_count": 6,
   "metadata": {},
   "outputs": [],
   "source": [
    "def sustituirchars(linea):\n",
    "    return linea.replace('.',',').replace(',,','.')\n"
   ]
  },
  {
   "cell_type": "code",
   "execution_count": 7,
   "metadata": {},
   "outputs": [],
   "source": [
    "df.Texto=df.Texto.apply(lambda x: sustituirchars(x))\n",
    "df.Autor=df.Autor.apply(lambda x: sustituirchars(x))\n",
    "df.Obra=df.Obra.apply(lambda x: sustituirchars(x))"
   ]
  },
  {
   "cell_type": "code",
   "execution_count": 8,
   "metadata": {},
   "outputs": [],
   "source": [
    "def strip_accents_and_lowercase(s):\n",
    "    return ''.join(c for c in unicodedata.normalize('NFD', s) if unicodedata.category(c) != 'Mn').lower()"
   ]
  },
  {
   "cell_type": "code",
   "execution_count": 9,
   "metadata": {},
   "outputs": [],
   "source": [
    "df.Texto=df.Texto.apply(lambda x: strip_accents_and_lowercase(x))"
   ]
  },
  {
   "cell_type": "code",
   "execution_count": 10,
   "metadata": {
    "scrolled": true
   },
   "outputs": [],
   "source": [
    "def cleanchars(t):\n",
    "    # Eliminamos lo que haya entre corchetes y entre paréntesis\n",
    "    a = re.sub(r'\\[.+\\]', ' ', str(t))\n",
    "    a = re.sub(r'\\(.+\\)', ' ', str(a))\n",
    "    # Quitar aquello que no sea griego o sean números\n",
    "    a = re.sub(r'[A-Za-z0-9]', ' ', a)\n",
    "    # Quitar puntos repetidos\n",
    "    a = re.sub(r'\\.{2,}', ' ', a)\n",
    "    # Sustituir las contracciones por su forma no contraída\n",
    "    a = re.sub(r'δ’', 'δε', a)\n",
    "    a = re.sub(r'ουδʼ', 'ουδε', a)\n",
    "    a = re.sub(r'αλλ’', 'αλλα', a)\n",
    "    a = re.sub(r'υπʼ', 'υπο', a)\n",
    "    # Sustituir caracteres extraños\n",
    "    a = re.sub(r'[ʼ\\᾿\\*\\|\\»\\«]', '', a)\n",
    "    a = re.sub(r' [,\\.] ', ' ', a)\n",
    "    a = re.sub(r'^. ', ' ', a)\n",
    "    # Quitar espacios extra en caso de haber\n",
    "    a = re.sub(r'\\s+', ' ', a, flags=re.I)\n",
    "    return a.strip()"
   ]
  },
  {
   "cell_type": "code",
   "execution_count": 11,
   "metadata": {},
   "outputs": [],
   "source": [
    "df.Texto = df.Texto.apply(lambda x: cleanchars(x))"
   ]
  },
  {
   "cell_type": "markdown",
   "metadata": {},
   "source": [
    "## Splitting data"
   ]
  },
  {
   "cell_type": "code",
   "execution_count": 13,
   "metadata": {},
   "outputs": [
    {
     "name": "stdout",
     "output_type": "stream",
     "text": [
      "Eusebius of Caesarea\n",
      "\tObras en total: 11\n",
      "\tObras a separar: 1\n",
      "\tSiendo éstas: De Martyribus Palaestinae (Recensio Brevior)\n",
      "Demosthenes\n",
      "\tObras en total: 59\n",
      "\tObras a separar: 5\n",
      "\tSiendo éstas: For the Megalopolitans, Against Evergus and Mnesibulus, Philippic 2, Against Onetor, Philip\n",
      "Isocrates\n",
      "\tObras en total: 29\n",
      "\tObras a separar: 2\n",
      "\tSiendo éstas: Against Callimachus, To Philip\n",
      "Aristophanes\n",
      "\tObras en total: 11\n",
      "\tObras a separar: 1\n",
      "\tSiendo éstas: Acharnians\n",
      "Theophrastus\n",
      "\tObras en total: 23\n",
      "\tObras a separar: 2\n",
      "\tSiendo éstas: DeLapidibus, DeNervorumResolutione\n",
      "Lysias\n",
      "\tObras en total: 34\n",
      "\tObras a separar: 3\n",
      "\tSiendo éstas: For the Soldier, Against Theomnestus 1, Against Diogeiton\n",
      "Aristotle\n",
      "\tObras en total: 38\n",
      "\tObras a separar: 3\n",
      "\tSiendo éstas: deInterpretatione, Meteorologica, DePartibusAnimalium\n",
      "Plutarch\n",
      "\tObras en total: 18\n",
      "\tObras a separar: 1\n",
      "\tSiendo éstas: Cleomenes\n",
      "Euripides\n",
      "\tObras en total: 14\n",
      "\tObras a separar: 1\n",
      "\tSiendo éstas: Bacchae\n",
      "Appian\n",
      "\tObras en total: 14\n",
      "\tObras a separar: 1\n",
      "\tSiendo éstas: Sicily and the Other Islands\n",
      "Hippocrates\n",
      "\tObras en total: 54\n",
      "\tObras a separar: 5\n",
      "\tSiendo éstas: De glandulis, De muliebribus, De haemorrhoidibus, Iusiurandum, De affectionibus\n",
      "Plato\n",
      "\tObras en total: 45\n",
      "\tObras a separar: 4\n",
      "\tSiendo éstas: Theages, Timaeus, Crito, Protagoras\n",
      "Lucian\n",
      "\tObras en total: 52\n",
      "\tObras a separar: 5\n",
      "\tSiendo éstas: Macrobii, Toxaris vel amicitia, Deorum Concilium, De Syria Dea, Nigrinus\n"
     ]
    }
   ],
   "source": [
    "val_df_list = []\n",
    "for autor in df.Autor.unique():\n",
    "    books = len(df[df.Autor == autor].Obra.unique())\n",
    "    if books > 10:\n",
    "        obras = list(df[df.Autor==autor].Obra.unique())\n",
    "        shuffle(obras)\n",
    "        print(autor)\n",
    "        print('\\tObras en total: '+str(books))\n",
    "        print('\\tObras a separar: '+str(books//10))\n",
    "        print('\\tSiendo éstas: '+', '.join(obras[:books//10]))\n",
    "        for obra in obras[:books//10]:\n",
    "            val_df_list.append(df[df.Obra==obra])\n",
    "            df.drop(df[df.Obra==obra].index, inplace=True)\n",
    "val_df = pd.concat(val_df_list)\n",
    "            "
   ]
  },
  {
   "cell_type": "code",
   "execution_count": 14,
   "metadata": {
    "scrolled": false
   },
   "outputs": [
    {
     "data": {
      "text/html": [
       "<div>\n",
       "<style scoped>\n",
       "    .dataframe tbody tr th:only-of-type {\n",
       "        vertical-align: middle;\n",
       "    }\n",
       "\n",
       "    .dataframe tbody tr th {\n",
       "        vertical-align: top;\n",
       "    }\n",
       "\n",
       "    .dataframe thead th {\n",
       "        text-align: right;\n",
       "    }\n",
       "</style>\n",
       "<table border=\"1\" class=\"dataframe\">\n",
       "  <thead>\n",
       "    <tr style=\"text-align: right;\">\n",
       "      <th></th>\n",
       "      <th>Autor</th>\n",
       "      <th>Obra</th>\n",
       "      <th>Fragmento</th>\n",
       "      <th>Texto</th>\n",
       "    </tr>\n",
       "  </thead>\n",
       "  <tbody>\n",
       "    <tr>\n",
       "      <th>count</th>\n",
       "      <td>4292</td>\n",
       "      <td>4292</td>\n",
       "      <td>4292</td>\n",
       "      <td>4292</td>\n",
       "    </tr>\n",
       "    <tr>\n",
       "      <th>unique</th>\n",
       "      <td>13</td>\n",
       "      <td>34</td>\n",
       "      <td>1514</td>\n",
       "      <td>4168</td>\n",
       "    </tr>\n",
       "    <tr>\n",
       "      <th>top</th>\n",
       "      <td>Euripides</td>\n",
       "      <td>Bacchae</td>\n",
       "      <td>1</td>\n",
       "      <td>του μεν νομου διαρρηδην αγορευοντος τους εν τω...</td>\n",
       "    </tr>\n",
       "    <tr>\n",
       "      <th>freq</th>\n",
       "      <td>1204</td>\n",
       "      <td>1204</td>\n",
       "      <td>97</td>\n",
       "      <td>33</td>\n",
       "    </tr>\n",
       "  </tbody>\n",
       "</table>\n",
       "</div>"
      ],
      "text/plain": [
       "            Autor     Obra Fragmento  \\\n",
       "count        4292     4292      4292   \n",
       "unique         13       34      1514   \n",
       "top     Euripides  Bacchae         1   \n",
       "freq         1204     1204        97   \n",
       "\n",
       "                                                    Texto  \n",
       "count                                                4292  \n",
       "unique                                               4168  \n",
       "top     του μεν νομου διαρρηδην αγορευοντος τους εν τω...  \n",
       "freq                                                   33  "
      ]
     },
     "execution_count": 14,
     "metadata": {},
     "output_type": "execute_result"
    }
   ],
   "source": [
    "val_df.describe()"
   ]
  },
  {
   "cell_type": "code",
   "execution_count": 21,
   "metadata": {},
   "outputs": [],
   "source": [
    "with open('val_df.csv', 'w', encoding = 'utf-8') as f:\n",
    "    val_df.to_csv(f, sep='>', index=False, line_terminator = '\\n', encoding='utf-8')"
   ]
  },
  {
   "cell_type": "code",
   "execution_count": 23,
   "metadata": {},
   "outputs": [],
   "source": [
    "with open('training_df.csv', 'w', encoding='utf-8') as f:\n",
    "    df.to_csv(f, sep='>', index=False, line_terminator = '\\n', encoding='utf-8')"
   ]
  }
 ],
 "metadata": {
  "kernelspec": {
   "display_name": "Python 3",
   "language": "python",
   "name": "python3"
  },
  "language_info": {
   "codemirror_mode": {
    "name": "ipython",
    "version": 2
   },
   "file_extension": ".py",
   "mimetype": "text/x-python",
   "name": "python",
   "nbconvert_exporter": "python",
   "pygments_lexer": "ipython2",
   "version": "2.7.16"
  }
 },
 "nbformat": 4,
 "nbformat_minor": 5
}
