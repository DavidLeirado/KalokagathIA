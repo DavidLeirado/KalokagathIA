{
 "cells": [
  {
   "cell_type": "code",
   "execution_count": 1,
   "id": "b3e8c74b",
   "metadata": {},
   "outputs": [],
   "source": [
    "import pandas as pd"
   ]
  },
  {
   "cell_type": "code",
   "execution_count": 2,
   "id": "4a516433",
   "metadata": {},
   "outputs": [],
   "source": [
    "df = pd.read_csv('./Training/textos_griegos.csv')"
   ]
  },
  {
   "cell_type": "code",
   "execution_count": 3,
   "id": "c9f123aa",
   "metadata": {},
   "outputs": [
    {
     "data": {
      "text/html": [
       "<div>\n",
       "<style scoped>\n",
       "    .dataframe tbody tr th:only-of-type {\n",
       "        vertical-align: middle;\n",
       "    }\n",
       "\n",
       "    .dataframe tbody tr th {\n",
       "        vertical-align: top;\n",
       "    }\n",
       "\n",
       "    .dataframe thead th {\n",
       "        text-align: right;\n",
       "    }\n",
       "</style>\n",
       "<table border=\"1\" class=\"dataframe\">\n",
       "  <thead>\n",
       "    <tr style=\"text-align: right;\">\n",
       "      <th></th>\n",
       "      <th>Autor</th>\n",
       "      <th>Obra</th>\n",
       "      <th>Fragmento</th>\n",
       "      <th>Texto</th>\n",
       "    </tr>\n",
       "  </thead>\n",
       "  <tbody>\n",
       "    <tr>\n",
       "      <th>0</th>\n",
       "      <td>Colluthus</td>\n",
       "      <td>Rape of Helen</td>\n",
       "      <td>1</td>\n",
       "      <td>νύμφαι Τρωιάδες. ποταμοῦ Ξάνθοιο γενέθλη. αἳ π...</td>\n",
       "    </tr>\n",
       "    <tr>\n",
       "      <th>1</th>\n",
       "      <td>Xenophon</td>\n",
       "      <td>Memorabilia</td>\n",
       "      <td>1.1.1</td>\n",
       "      <td>πολλάκις ἐθαύμασα τίσι ποτὲ λόγοις Ἀθηναίους ἔ...</td>\n",
       "    </tr>\n",
       "    <tr>\n",
       "      <th>2</th>\n",
       "      <td>Xenophon</td>\n",
       "      <td>Memorabilia</td>\n",
       "      <td>1.1.2</td>\n",
       "      <td>πρῶτον μὲν οὖν. ὡς οὐκ ἐνόμιζεν οὓς ἡ πόλις νο...</td>\n",
       "    </tr>\n",
       "    <tr>\n",
       "      <th>3</th>\n",
       "      <td>Xenophon</td>\n",
       "      <td>Memorabilia</td>\n",
       "      <td>1.1.3</td>\n",
       "      <td>ὁ δ᾽ οὐδὲν καινότερον εἰσέφερε τῶν ἄλλων. ὅσοι...</td>\n",
       "    </tr>\n",
       "    <tr>\n",
       "      <th>4</th>\n",
       "      <td>Xenophon</td>\n",
       "      <td>Memorabilia</td>\n",
       "      <td>1.1.4</td>\n",
       "      <td>ἀλλ᾽ οἱ μὲν πλεῖστοί φασιν ὑπό τε τῶν ὀρνίθων ...</td>\n",
       "    </tr>\n",
       "  </tbody>\n",
       "</table>\n",
       "</div>"
      ],
      "text/plain": [
       "       Autor           Obra Fragmento  \\\n",
       "0  Colluthus  Rape of Helen         1   \n",
       "1   Xenophon    Memorabilia     1.1.1   \n",
       "2   Xenophon    Memorabilia     1.1.2   \n",
       "3   Xenophon    Memorabilia     1.1.3   \n",
       "4   Xenophon    Memorabilia     1.1.4   \n",
       "\n",
       "                                               Texto  \n",
       "0  νύμφαι Τρωιάδες. ποταμοῦ Ξάνθοιο γενέθλη. αἳ π...  \n",
       "1  πολλάκις ἐθαύμασα τίσι ποτὲ λόγοις Ἀθηναίους ἔ...  \n",
       "2  πρῶτον μὲν οὖν. ὡς οὐκ ἐνόμιζεν οὓς ἡ πόλις νο...  \n",
       "3  ὁ δ᾽ οὐδὲν καινότερον εἰσέφερε τῶν ἄλλων. ὅσοι...  \n",
       "4  ἀλλ᾽ οἱ μὲν πλεῖστοί φασιν ὑπό τε τῶν ὀρνίθων ...  "
      ]
     },
     "execution_count": 3,
     "metadata": {},
     "output_type": "execute_result"
    }
   ],
   "source": [
    "df.head()"
   ]
  },
  {
   "cell_type": "code",
   "execution_count": 4,
   "id": "a72c58df",
   "metadata": {},
   "outputs": [
    {
     "data": {
      "text/html": [
       "<div>\n",
       "<style scoped>\n",
       "    .dataframe tbody tr th:only-of-type {\n",
       "        vertical-align: middle;\n",
       "    }\n",
       "\n",
       "    .dataframe tbody tr th {\n",
       "        vertical-align: top;\n",
       "    }\n",
       "\n",
       "    .dataframe thead th {\n",
       "        text-align: right;\n",
       "    }\n",
       "</style>\n",
       "<table border=\"1\" class=\"dataframe\">\n",
       "  <thead>\n",
       "    <tr style=\"text-align: right;\">\n",
       "      <th></th>\n",
       "      <th>Autor</th>\n",
       "      <th>Obra</th>\n",
       "      <th>Fragmento</th>\n",
       "      <th>Texto</th>\n",
       "    </tr>\n",
       "  </thead>\n",
       "  <tbody>\n",
       "    <tr>\n",
       "      <th>count</th>\n",
       "      <td>152015</td>\n",
       "      <td>159733</td>\n",
       "      <td>159733</td>\n",
       "      <td>159517</td>\n",
       "    </tr>\n",
       "    <tr>\n",
       "      <th>unique</th>\n",
       "      <td>61</td>\n",
       "      <td>294</td>\n",
       "      <td>52807</td>\n",
       "      <td>155680</td>\n",
       "    </tr>\n",
       "    <tr>\n",
       "      <th>top</th>\n",
       "      <td>Homer</td>\n",
       "      <td>Histories</td>\n",
       "      <td>1</td>\n",
       "      <td>Θηραμένης δὲ ὕστερον ἀφικνεῖται ἐκ Λακεδαίμονο...</td>\n",
       "    </tr>\n",
       "    <tr>\n",
       "      <th>freq</th>\n",
       "      <td>25314</td>\n",
       "      <td>20050</td>\n",
       "      <td>300</td>\n",
       "      <td>33</td>\n",
       "    </tr>\n",
       "  </tbody>\n",
       "</table>\n",
       "</div>"
      ],
      "text/plain": [
       "         Autor       Obra Fragmento  \\\n",
       "count   152015     159733    159733   \n",
       "unique      61        294     52807   \n",
       "top      Homer  Histories         1   \n",
       "freq     25314      20050       300   \n",
       "\n",
       "                                                    Texto  \n",
       "count                                              159517  \n",
       "unique                                             155680  \n",
       "top     Θηραμένης δὲ ὕστερον ἀφικνεῖται ἐκ Λακεδαίμονο...  \n",
       "freq                                                   33  "
      ]
     },
     "execution_count": 4,
     "metadata": {},
     "output_type": "execute_result"
    }
   ],
   "source": [
    "df.describe()"
   ]
  },
  {
   "cell_type": "code",
   "execution_count": 5,
   "id": "a9200310",
   "metadata": {},
   "outputs": [],
   "source": [
    "df.dropna(inplace=True)"
   ]
  },
  {
   "cell_type": "code",
   "execution_count": 6,
   "id": "9b649fe1",
   "metadata": {},
   "outputs": [],
   "source": [
    "def sustituirchars(linea):\n",
    "    return linea.replace('.',',').replace(',,','.')\n",
    "\n",
    "df.Texto=df.Texto.apply(lambda x: sustituirchars(x))"
   ]
  },
  {
   "cell_type": "code",
   "execution_count": 29,
   "id": "673a535a",
   "metadata": {},
   "outputs": [
    {
     "data": {
      "text/plain": [
       "Euripides                                    17795\n",
       "Aristophanes                                 13579\n",
       "Polybius                                     12141\n",
       "Sophocles                                     9260\n",
       "Procopius                                     8258\n",
       "Cassius Dio Cocceianus                        7128\n",
       "Aeschylus                                     6731\n",
       "Apollonius Rhodius                            5384\n",
       "Demosthenes                                   4544\n",
       "Herodotus                                     4329\n",
       "Dionysius of Halicarnassus                    4258\n",
       "Thucydides                                    3577\n",
       "Pausanias                                     3170\n",
       "Dio Chrysostom                                2570\n",
       "Plutarch                                      2329\n",
       "Xenophon                                      2081\n",
       "Lysias                                        1884\n",
       "Eusebius of Caesarea                          1865\n",
       "Arrian                                        1765\n",
       "Strabo                                        1579\n",
       "Athenaeus                                     1328\n",
       "Plato                                         1163\n",
       "Aristotle                                      962\n",
       "Aelian                                         802\n",
       "Appian                                         656\n",
       "Aeschines                                      642\n",
       "Isocrates                                      602\n",
       "Marcus Aurelius                                560\n",
       "Longus                                         537\n",
       "Basil, Saint, Bishop of Caesarea               463\n",
       "Apollodorus                                    386\n",
       "Lucian                                         376\n",
       "Aeneas Tacticus                                375\n",
       "Julian the Emperor                             369\n",
       "John, of Damascus (attributed author)          364\n",
       "Philostratus the Athenian                      348\n",
       "Theophrastus                                   332\n",
       "Demetrius of Phaleron (attributed author)      304\n",
       "Andocides                                      269\n",
       "Hyperides                                      202\n",
       "Barnabas                                       194\n",
       "Hippocrates                                    176\n",
       "Antiphon                                       155\n",
       "Lycurgus                                       150\n",
       "Dinarchus                                      138\n",
       "Asclepiodotus                                   73\n",
       "Callimachus                                     61\n",
       "Clement of Alexandria                           55\n",
       "Pseudo-Xenophon                                 53\n",
       "Nonnus of Panopolis                             48\n",
       "Longinus                                        44\n",
       "Theocritus                                      30\n",
       "Quintus Smyrnaeus                               14\n",
       "Callistratus                                    14\n",
       "Oppian                                           5\n",
       "Moschus                                          3\n",
       "Bion of Phlossa                                  2\n",
       "Tryphiodorus                                     1\n",
       "Colluthus                                        1\n",
       "Aratus Solensis                                  1\n",
       "Name: Autor, dtype: int64"
      ]
     },
     "execution_count": 29,
     "metadata": {},
     "output_type": "execute_result"
    }
   ],
   "source": [
    "df.Autor.value_counts().tail(60)\n"
   ]
  },
  {
   "cell_type": "code",
   "execution_count": 8,
   "id": "2dec0dda",
   "metadata": {},
   "outputs": [
    {
     "name": "stdout",
     "output_type": "stream",
     "text": [
      "Colluthus\n",
      "Xenophon\n",
      "Pseudo-Xenophon\n",
      "Hyperides\n",
      "Bion of Phlossa\n",
      "Moschus\n",
      "Lycurgus\n",
      "Eusebius of Caesarea\n",
      "Demosthenes\n",
      "Homer\n",
      "Sophocles\n",
      "Isocrates\n",
      "Aristophanes\n",
      "Theophrastus\n",
      "Julian the Emperor\n",
      "Herodotus\n",
      "Strabo\n",
      "Aratus Solensis\n",
      "Oppian\n",
      "Aeschines\n",
      "Pausanias\n",
      "Andocides\n",
      "Antiphon\n",
      "Dinarchus\n",
      "Tryphiodorus\n",
      "Arrian\n",
      "Callimachus\n",
      "Lysias\n",
      "Apollonius Rhodius\n",
      "Thucydides\n",
      "Philostratus the Athenian\n",
      "Aristotle\n",
      "John, of Damascus (attributed author)\n",
      "Aeschylus\n",
      "Theocritus\n",
      "Apollodorus\n",
      "Plutarch\n",
      "Euripides\n",
      "Polybius\n",
      "Athenaeus\n",
      "Aelian\n",
      "Dionysius of Halicarnassus\n",
      "Procopius\n",
      "Appian\n",
      "Hippocrates\n",
      "Plato\n",
      "Basil, Saint, Bishop of Caesarea\n",
      "Aeneas Tacticus\n",
      "Asclepiodotus\n",
      "Quintus Smyrnaeus\n",
      "Clement of Alexandria\n",
      "Nonnus of Panopolis\n",
      "Cassius Dio Cocceianus\n",
      "Longinus\n",
      "Marcus Aurelius\n",
      "Longus\n",
      "Demetrius of Phaleron (attributed author)\n",
      "Barnabas\n",
      "Dio Chrysostom\n",
      "Lucian\n",
      "Callistratus\n"
     ]
    }
   ],
   "source": [
    "for i in df.Autor.unique():\n",
    "    print(i)"
   ]
  },
  {
   "cell_type": "code",
   "execution_count": 9,
   "id": "15618e6d",
   "metadata": {},
   "outputs": [
    {
     "name": "stdout",
     "output_type": "stream",
     "text": [
      "Cratylus\n",
      "Theaetetus\n",
      "Sophist\n",
      "Statesman\n"
     ]
    }
   ],
   "source": [
    "for i in df[df['Autor'] == 'Plato'].Obra.unique():\n",
    "    print(i)"
   ]
  },
  {
   "cell_type": "code",
   "execution_count": 10,
   "id": "e8a30b80",
   "metadata": {},
   "outputs": [
    {
     "name": "stdout",
     "output_type": "stream",
     "text": [
      "Taking of Ilios\n"
     ]
    }
   ],
   "source": [
    "for i in df[df['Autor'] == 'Tryphiodorus'].Obra.unique():\n",
    "    print(i)"
   ]
  },
  {
   "cell_type": "code",
   "execution_count": 11,
   "id": "48fe4b4a",
   "metadata": {},
   "outputs": [
    {
     "name": "stdout",
     "output_type": "stream",
     "text": [
      "Rape of Helen\n"
     ]
    }
   ],
   "source": [
    "for i in df[df['Autor'] == 'Colluthus'].Obra.unique():\n",
    "    print(i)"
   ]
  },
  {
   "cell_type": "code",
   "execution_count": 12,
   "id": "164f9b74",
   "metadata": {},
   "outputs": [
    {
     "name": "stdout",
     "output_type": "stream",
     "text": [
      "Phaenomena\n"
     ]
    }
   ],
   "source": [
    "for i in df[df['Autor'] == 'Aratus Solensis'].Obra.unique():\n",
    "    print(i)"
   ]
  },
  {
   "cell_type": "code",
   "execution_count": 13,
   "id": "24e680d1",
   "metadata": {},
   "outputs": [
    {
     "name": "stdout",
     "output_type": "stream",
     "text": [
      "Epitaphius Adonis\n",
      "Epithalamium Achillis et Deidameiae\n"
     ]
    }
   ],
   "source": [
    "for i in df[df['Autor'] == 'Bion of Phlossa'].Obra.unique():\n",
    "    print(i)"
   ]
  },
  {
   "cell_type": "code",
   "execution_count": 14,
   "id": "85a3f39d",
   "metadata": {},
   "outputs": [
    {
     "name": "stdout",
     "output_type": "stream",
     "text": [
      "Eros Drapeta\n",
      "Europa\n",
      "Megara\n"
     ]
    }
   ],
   "source": [
    "for i in df[df['Autor'] == 'Moschus'].Obra.unique():\n",
    "    print(i)"
   ]
  },
  {
   "cell_type": "code",
   "execution_count": 15,
   "id": "a0ec8070",
   "metadata": {
    "scrolled": true
   },
   "outputs": [
    {
     "name": "stdout",
     "output_type": "stream",
     "text": [
      "Halieutica\n"
     ]
    }
   ],
   "source": [
    "for i in df[df['Autor'] == 'Oppian'].Obra.unique():\n",
    "    print(i)"
   ]
  },
  {
   "cell_type": "code",
   "execution_count": 16,
   "id": "e7b9c39e",
   "metadata": {},
   "outputs": [
    {
     "name": "stdout",
     "output_type": "stream",
     "text": [
      "Descriptiones\n"
     ]
    }
   ],
   "source": [
    "for i in df[df['Autor'] == 'Callistratus'].Obra.unique():\n",
    "    print(i)"
   ]
  },
  {
   "cell_type": "code",
   "execution_count": 17,
   "id": "54712571",
   "metadata": {},
   "outputs": [
    {
     "name": "stdout",
     "output_type": "stream",
     "text": [
      "Fall of Troy\n"
     ]
    }
   ],
   "source": [
    "for i in df[df['Autor'] == 'Quintus Smyrnaeus'].Obra.unique():\n",
    "    print(i)"
   ]
  },
  {
   "cell_type": "code",
   "execution_count": 18,
   "id": "9bf9e06d",
   "metadata": {
    "scrolled": true
   },
   "outputs": [
    {
     "name": "stdout",
     "output_type": "stream",
     "text": [
      "Idylls\n"
     ]
    }
   ],
   "source": [
    "for i in df[df['Autor'] == 'Theocritus'].Obra.unique():\n",
    "    print(i)"
   ]
  },
  {
   "cell_type": "code",
   "execution_count": 19,
   "id": "56c0a7e3",
   "metadata": {
    "scrolled": true
   },
   "outputs": [
    {
     "name": "stdout",
     "output_type": "stream",
     "text": [
      "De Sublimitate\n"
     ]
    }
   ],
   "source": [
    "for i in df[df['Autor'] == 'Longinus'].Obra.unique():\n",
    "    print(i)"
   ]
  },
  {
   "cell_type": "code",
   "execution_count": 20,
   "id": "e40bff05",
   "metadata": {
    "scrolled": true
   },
   "outputs": [
    {
     "name": "stdout",
     "output_type": "stream",
     "text": [
      "Dionysiaca\n"
     ]
    }
   ],
   "source": [
    "for i in df[df['Autor'] == 'Nonnus of Panopolis'].Obra.unique():\n",
    "    print(i)"
   ]
  },
  {
   "cell_type": "code",
   "execution_count": 21,
   "id": "83b4dd06",
   "metadata": {},
   "outputs": [
    {
     "name": "stdout",
     "output_type": "stream",
     "text": [
      "Constitution of the Athenians\n"
     ]
    }
   ],
   "source": [
    "for i in df[df['Autor'] == 'Pseudo-Xenophon'].Obra.unique():\n",
    "    print(i)"
   ]
  },
  {
   "cell_type": "code",
   "execution_count": 22,
   "id": "464753bb",
   "metadata": {},
   "outputs": [
    {
     "name": "stdout",
     "output_type": "stream",
     "text": [
      "Protrepticus\n",
      "Quis Dis Salvetur\n",
      "Exhortation to Endurance, or to the Newly Baptized\n"
     ]
    }
   ],
   "source": [
    "for i in df[df['Autor'] == 'Clement of Alexandria'].Obra.unique():\n",
    "    print(i)"
   ]
  },
  {
   "cell_type": "code",
   "execution_count": 23,
   "id": "94d7ec48",
   "metadata": {},
   "outputs": [
    {
     "name": "stdout",
     "output_type": "stream",
     "text": [
      "Epigrams\n"
     ]
    }
   ],
   "source": [
    "for i in df[df['Autor'] == 'Callimachus'].Obra.unique():\n",
    "    print(i)"
   ]
  },
  {
   "cell_type": "code",
   "execution_count": 24,
   "id": "bc326888",
   "metadata": {
    "scrolled": true
   },
   "outputs": [
    {
     "name": "stdout",
     "output_type": "stream",
     "text": [
      "Tactica\n"
     ]
    }
   ],
   "source": [
    "for i in df[df['Autor'] == 'Asclepiodotus'].Obra.unique():\n",
    "    print(i)"
   ]
  },
  {
   "cell_type": "code",
   "execution_count": 25,
   "id": "2411e50e",
   "metadata": {
    "scrolled": true
   },
   "outputs": [
    {
     "name": "stdout",
     "output_type": "stream",
     "text": [
      "Against Demosthenes\n",
      "Against Aristogiton\n",
      "Against Philocles\n"
     ]
    }
   ],
   "source": [
    "for i in df[df['Autor'] == 'Dinarchus'].Obra.unique():\n",
    "    print(i)"
   ]
  },
  {
   "cell_type": "code",
   "execution_count": 26,
   "id": "41843bbe",
   "metadata": {
    "scrolled": true
   },
   "outputs": [
    {
     "name": "stdout",
     "output_type": "stream",
     "text": [
      "Against Leocrates\n"
     ]
    }
   ],
   "source": [
    "for i in df[df['Autor'] == 'Lycurgus'].Obra.unique():\n",
    "    print(i)"
   ]
  },
  {
   "cell_type": "code",
   "execution_count": 27,
   "id": "873a0738",
   "metadata": {
    "scrolled": true
   },
   "outputs": [
    {
     "name": "stdout",
     "output_type": "stream",
     "text": [
      "Against the Stepmother for Poisoning\n",
      "First Tetralogy\n",
      "Second Tetralogy\n",
      "Third Tetralogy\n",
      "On the murder of Herodes\n",
      "On the Choreutes\n"
     ]
    }
   ],
   "source": [
    "for i in df[df['Autor'] == 'Antiphon'].Obra.unique():\n",
    "    print(i)"
   ]
  },
  {
   "cell_type": "code",
   "execution_count": 28,
   "id": "bfd2f7b0",
   "metadata": {},
   "outputs": [
    {
     "name": "stdout",
     "output_type": "stream",
     "text": [
      "De aere aquis et locis\n",
      "De morbis popularibus\n",
      "Praeceptiones\n",
      "De alimento\n"
     ]
    }
   ],
   "source": [
    "for i in df[df['Autor'] == 'Hippocrates'].Obra.unique():\n",
    "    print(i)"
   ]
  },
  {
   "cell_type": "code",
   "execution_count": 31,
   "id": "059f9972",
   "metadata": {},
   "outputs": [
    {
     "name": "stdout",
     "output_type": "stream",
     "text": [
      "Barnabae Epistula\n"
     ]
    }
   ],
   "source": [
    "for i in df[df['Autor'] == 'Barnabas'].Obra.unique():\n",
    "    print(i)"
   ]
  },
  {
   "cell_type": "code",
   "execution_count": 32,
   "id": "362f6a1a",
   "metadata": {},
   "outputs": [
    {
     "name": "stdout",
     "output_type": "stream",
     "text": [
      "In Defence of Lycophron\n",
      "Against Philippides\n",
      "Against Athenogenes\n",
      "In Defence of Euxenippus\n",
      "Against Demosthenes\n",
      "Funeral Oration\n"
     ]
    }
   ],
   "source": [
    "for i in df[df['Autor'] == 'Hyperides'].Obra.unique():\n",
    "    print(i)"
   ]
  },
  {
   "cell_type": "code",
   "execution_count": 33,
   "id": "299ff95d",
   "metadata": {},
   "outputs": [
    {
     "name": "stdout",
     "output_type": "stream",
     "text": [
      "On the Mysteries\n",
      "On his Return\n",
      "On the Peace\n",
      "Against Alcibiades\n"
     ]
    }
   ],
   "source": [
    "for i in df[df['Autor'] == 'Andocides'].Obra.unique():\n",
    "    print(i)"
   ]
  },
  {
   "cell_type": "code",
   "execution_count": 35,
   "id": "335f22a9",
   "metadata": {},
   "outputs": [
    {
     "name": "stdout",
     "output_type": "stream",
     "text": [
      "Libro de Elocutione\n"
     ]
    }
   ],
   "source": [
    "for i in df[df['Autor'] == 'Demetrius of Phaleron (attributed author)'].Obra.unique():\n",
    "    print(i)"
   ]
  },
  {
   "cell_type": "code",
   "execution_count": 36,
   "id": "3656faf9",
   "metadata": {},
   "outputs": [
    {
     "name": "stdout",
     "output_type": "stream",
     "text": [
      "Characters\n"
     ]
    }
   ],
   "source": [
    "for i in df[df['Autor'] == 'Theophrastus'].Obra.unique():\n",
    "    print(i)"
   ]
  },
  {
   "cell_type": "code",
   "execution_count": 38,
   "id": "808aa217",
   "metadata": {},
   "outputs": [
    {
     "name": "stdout",
     "output_type": "stream",
     "text": [
      "Life of Apollonius of Tyana\n"
     ]
    }
   ],
   "source": [
    "for i in df[df['Autor'] == 'Philostratus the Athenian'].Obra.unique():\n",
    "    print(i)"
   ]
  },
  {
   "cell_type": "code",
   "execution_count": 39,
   "id": "3ae3034c",
   "metadata": {},
   "outputs": [
    {
     "name": "stdout",
     "output_type": "stream",
     "text": [
      "Vita Barlaam et Joasaph\n"
     ]
    }
   ],
   "source": [
    "for i in df[df['Autor'] == 'John, of Damascus (attributed author)'].Obra.unique():\n",
    "    print(i)"
   ]
  },
  {
   "cell_type": "code",
   "execution_count": 41,
   "id": "1a1b27d8",
   "metadata": {},
   "outputs": [
    {
     "name": "stdout",
     "output_type": "stream",
     "text": [
      "Panegyric in Honor of the Emperor ConstantinusOration I\n",
      "Hymn to the Mother of the GodsOration V\n",
      "To the Uneducated CynicsOration VI\n"
     ]
    }
   ],
   "source": [
    "for i in df[df['Autor'] == 'Julian the Emperor'].Obra.unique():\n",
    "    print(i)"
   ]
  },
  {
   "cell_type": "code",
   "execution_count": 43,
   "id": "1acc8005",
   "metadata": {},
   "outputs": [
    {
     "name": "stdout",
     "output_type": "stream",
     "text": [
      "Poliorcetica\n"
     ]
    }
   ],
   "source": [
    "for i in df[df['Autor'] == 'Aeneas Tacticus'].Obra.unique():\n",
    "    print(i)"
   ]
  },
  {
   "cell_type": "code",
   "execution_count": 44,
   "id": "8b7759ad",
   "metadata": {},
   "outputs": [
    {
     "name": "stdout",
     "output_type": "stream",
     "text": [
      "Bis accusatus sive tribunalia\n",
      "Navigium\n",
      "Hermotimus\n",
      "De luctu\n",
      "Hippias\n",
      "Demonax\n",
      "Toxaris vel amicitia\n",
      "Cataplus\n",
      "Pro lapsu inter salutandum\n"
     ]
    }
   ],
   "source": [
    "for i in df[df['Autor'] == 'Lucian'].Obra.unique():\n",
    "    print(i)"
   ]
  },
  {
   "cell_type": "code",
   "execution_count": 45,
   "id": "94f31a2f",
   "metadata": {},
   "outputs": [
    {
     "name": "stdout",
     "output_type": "stream",
     "text": [
      "Library\n",
      "Epitome\n"
     ]
    }
   ],
   "source": [
    "for i in df[df['Autor'] == 'Apollodorus'].Obra.unique():\n",
    "    print(i)"
   ]
  },
  {
   "cell_type": "code",
   "execution_count": 47,
   "id": "e4f3c570",
   "metadata": {},
   "outputs": [
    {
     "name": "stdout",
     "output_type": "stream",
     "text": [
      "De legendis gentilium libris\n",
      "Epistulae\n"
     ]
    }
   ],
   "source": [
    "for i in df[df['Autor'] == 'Basil, Saint, Bishop of Caesarea'].Obra.unique():\n",
    "    print(i)"
   ]
  },
  {
   "cell_type": "code",
   "execution_count": 48,
   "id": "8f6b93b2",
   "metadata": {},
   "outputs": [
    {
     "name": "stdout",
     "output_type": "stream",
     "text": [
      "Daphnis &amp; Chloe\n"
     ]
    }
   ],
   "source": [
    "for i in df[df['Autor'] == 'Longus'].Obra.unique():\n",
    "    print(i)"
   ]
  },
  {
   "cell_type": "code",
   "execution_count": 49,
   "id": "28555b73",
   "metadata": {},
   "outputs": [
    {
     "name": "stdout",
     "output_type": "stream",
     "text": [
      "M. Antonius Imperator Ad Se Ipsum\n"
     ]
    }
   ],
   "source": [
    "for i in df[df['Autor'] == 'Marcus Aurelius'].Obra.unique():\n",
    "    print(i)"
   ]
  },
  {
   "cell_type": "code",
   "execution_count": 50,
   "id": "b120abde",
   "metadata": {},
   "outputs": [
    {
     "name": "stdout",
     "output_type": "stream",
     "text": [
      "To Demonicus\n",
      "To Nicocles\n",
      "Nicocles or the Cyprians\n",
      "Panegyricus\n",
      "To Philip\n",
      "Archidamus\n",
      "Areopagiticus\n",
      "On the Peace\n",
      "Evagoras\n",
      "Helen\n",
      "Busiris\n",
      "Panathenaicus\n",
      "Against the Sophists\n",
      "Plataicus\n",
      "Antidosis\n",
      "On the team of horses\n",
      "Trapeziticus\n",
      "Against Callimachus\n",
      "Aegineticus\n",
      "Against Lochites\n",
      "Against Euthynus\n"
     ]
    }
   ],
   "source": [
    "for i in df[df['Autor'] == 'Isocrates'].Obra.unique():\n",
    "    print(i)"
   ]
  },
  {
   "cell_type": "code",
   "execution_count": 51,
   "id": "f6733d77",
   "metadata": {},
   "outputs": [
    {
     "name": "stdout",
     "output_type": "stream",
     "text": [
      "Against Timarchus\n",
      "On the Embassy\n",
      "Against Ctesiphon\n"
     ]
    }
   ],
   "source": [
    "for i in df[df['Autor'] == 'Aeschines'].Obra.unique():\n",
    "    print(i)"
   ]
  },
  {
   "cell_type": "code",
   "execution_count": 52,
   "id": "51e50943",
   "metadata": {},
   "outputs": [
    {
     "name": "stdout",
     "output_type": "stream",
     "text": [
      "Civil Wars\n"
     ]
    }
   ],
   "source": [
    "for i in df[df['Autor'] == 'Appian'].Obra.unique():\n",
    "    print(i)"
   ]
  },
  {
   "cell_type": "code",
   "execution_count": 53,
   "id": "c11afdcd",
   "metadata": {},
   "outputs": [
    {
     "name": "stdout",
     "output_type": "stream",
     "text": [
      "De Natura Animalium\n"
     ]
    }
   ],
   "source": [
    "for i in df[df['Autor'] == 'Aelian'].Obra.unique():\n",
    "    print(i)"
   ]
  },
  {
   "cell_type": "code",
   "execution_count": 54,
   "id": "159ed89b",
   "metadata": {},
   "outputs": [
    {
     "name": "stdout",
     "output_type": "stream",
     "text": [
      "Deipnosophistae\n"
     ]
    }
   ],
   "source": [
    "for i in df[df['Autor'] == 'Athenaeus'].Obra.unique():\n",
    "    print(i)"
   ]
  },
  {
   "cell_type": "code",
   "execution_count": 55,
   "id": "69c67dfa",
   "metadata": {},
   "outputs": [
    {
     "name": "stdout",
     "output_type": "stream",
     "text": [
      "Geography\n"
     ]
    }
   ],
   "source": [
    "for i in df[df['Autor'] == 'Strabo'].Obra.unique():\n",
    "    print(i)"
   ]
  },
  {
   "cell_type": "code",
   "execution_count": 56,
   "id": "380155f1",
   "metadata": {},
   "outputs": [
    {
     "name": "stdout",
     "output_type": "stream",
     "text": [
      "Anabasis\n",
      "Periplus Ponti Euxini\n",
      "Tactica\n"
     ]
    }
   ],
   "source": [
    "for i in df[df['Autor'] == 'Arrian'].Obra.unique():\n",
    "    print(i)"
   ]
  },
  {
   "cell_type": "code",
   "execution_count": 57,
   "id": "ae917cbd",
   "metadata": {},
   "outputs": [
    {
     "name": "stdout",
     "output_type": "stream",
     "text": [
      "Historia ecclesiastica\n"
     ]
    }
   ],
   "source": [
    "for i in df[df['Autor'] == 'Eusebius of Caesarea'].Obra.unique():\n",
    "    print(i)"
   ]
  },
  {
   "cell_type": "code",
   "execution_count": null,
   "id": "2a326ebe",
   "metadata": {},
   "outputs": [],
   "source": []
  }
 ],
 "metadata": {
  "kernelspec": {
   "display_name": "Python 3",
   "language": "python",
   "name": "python3"
  },
  "language_info": {
   "codemirror_mode": {
    "name": "ipython",
    "version": 3
   },
   "file_extension": ".py",
   "mimetype": "text/x-python",
   "name": "python",
   "nbconvert_exporter": "python",
   "pygments_lexer": "ipython3",
   "version": "3.9.5"
  }
 },
 "nbformat": 4,
 "nbformat_minor": 5
}
